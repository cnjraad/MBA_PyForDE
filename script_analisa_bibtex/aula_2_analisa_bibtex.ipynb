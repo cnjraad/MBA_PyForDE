{
 "cells": [
  {
   "cell_type": "markdown",
   "metadata": {},
   "source": [
    "# Bibtex"
   ]
  },
  {
   "cell_type": "code",
   "execution_count": 631,
   "metadata": {},
   "outputs": [],
   "source": [
    "import bibtexparser as bp\n",
    "import pandas as pd\n",
    "import numpy as np\n",
    "import yaml as yml\n",
    "import os\n",
    "\n",
    "dir_input = os.path.join(os.getcwd(), 'input')\n",
    "dir_output = os.path.join(os.getcwd(), 'output')\n",
    "dir_config = os.path.join(os.getcwd(), 'config')\n",
    "configFileName = 'config_analisa_bibtex.yml'\n"
   ]
  },
  {
   "cell_type": "code",
   "execution_count": 632,
   "metadata": {},
   "outputs": [],
   "source": [
    "# CARREGA O ARQUIVO DE CONFIGURAÇÃO\n",
    "with open(os.path.join(dir_config, configFileName)) as f:\n",
    "    configFile = yml.load(f, Loader=yml.loader.SafeLoader)\n",
    "\n",
    "# ANALISA BIBTEX\n",
    "listaArquivos = ( \\\n",
    "\tconfigFile['FILE_ACM'], \\\n",
    "\tconfigFile['FILE_IEE'], \\\n",
    "\tconfigFile['FILE_SD' ]\n",
    "\t)\n",
    "\n",
    "def bibtexToDict(arqv):\n",
    "\twith open(os.path.join(dir_input, arqv), encoding='utf8') as f:\n",
    "\t\tbib_database = bp.load(f)\t\t\n",
    "\treturn bib_database.entries_dict.values() # retorna lista de dicionarios\n",
    "\t\n",
    "# UNION DATAFRAMES AND YML\n",
    "listaDf = []\n",
    "listaYml =[]\n",
    "for arqv in listaArquivos:\n",
    "\tsourceArticles = bibtexToDict(arqv)\n",
    "\tlistaDf.append(pd.DataFrame(sourceArticles))\n",
    "\tlistaYml.append(yml.dump(list(sourceArticles)))\n",
    "\n",
    "unionDf = pd.concat(listaDf)\n",
    "unionYml = ''.join(listaYml)"
   ]
  },
  {
   "cell_type": "code",
   "execution_count": 633,
   "metadata": {},
   "outputs": [
    {
     "name": "stdout",
     "output_type": "stream",
     "text": [
      "Export CSV to c:\\Users\\Saulo\\Documents\\GitHub\\MBA_PyForDE\\script_analisa_bibtex\\output\n"
     ]
    }
   ],
   "source": [
    "def df_export(df, file_name, file_format):\n",
    "\tif file_format == 'CSV':\n",
    "\t\tdf.to_csv(os.path.join(dir_output, file_name + '.csv'), sep=';', index=False, encoding='utf-8')\t\t\n",
    "\t\tprint('Export ' + file_format + ' to ' + dir_output)\n",
    "\telif file_format == 'JSON':\n",
    "\t\tdf.to_json(os.path.join(dir_output, file_name + '.json'), orient = 'records')\n",
    "\t\tprint('Export ' + file_format + ' to ' + dir_output)\n",
    "\telif file_format == 'YAML':\n",
    "\t\twith open(os.path.join(dir_output, file_name + '.yml'), mode='w',encoding='utf8') as f:\n",
    "\t\t\tf.write(unionYml)\n",
    "\t\t\tprint('Export ' + file_format + ' to ' + dir_output)\t\n",
    "\telse:\n",
    "\t\tprint('Formato não disponivel.')\n",
    "\n",
    "df_export(unionDf,'ALL_ARTICLES', configFile['FORMATO'])"
   ]
  },
  {
   "cell_type": "markdown",
   "metadata": {},
   "source": [
    "# Article Impact"
   ]
  },
  {
   "cell_type": "code",
   "execution_count": 634,
   "metadata": {},
   "outputs": [],
   "source": [
    "file_scimagojr = 'scimagojr 2020.csv'\n",
    "file_jcs = 'jcs_2020.csv'\n",
    "file_article_impact = 'ALL_Article_Impact.csv'\n",
    "\n",
    "df_scimagojr = pd.read_csv(os.path.join(dir_input, file_scimagojr), delimiter=';', quotechar='\"', header=0)\n",
    "df_jcs = pd.read_csv(os.path.join(dir_input, file_jcs), delimiter=';', quotechar='\"', header=0)\n",
    "\n",
    "# Tratamento\n",
    "dict_treat_data = {'-': np.nan, '': np.nan, None: np.nan, 'Not Available': np.nan}\n",
    "\n",
    "# JCS\n",
    "df_jcs.columns = df_jcs.columns.str.lower()\n",
    "df_jcs.rename(columns ={'journal impact factor':'jcr_value'}, inplace=True)\n",
    "df_jcs.jcr_value.replace(to_replace=dict_treat_data, inplace=True)\n",
    "df_jcs.drop(df_jcs.columns[df_jcs.columns.str.contains('unnamed') == True], axis=1, inplace=True) # Remove colunas vazias no arquivo\n",
    "df_jcs.drop('rank', axis=1, inplace=True)\n",
    "df_jcs.drop_duplicates(inplace=True) # Linha inteira duplicada\n",
    "df_jcs['full journal title'] = df_jcs['full journal title'].str.upper()\n",
    "df_jcs['full journal title'] = df_jcs['full journal title'].str.strip()\n",
    "df_jcs['jcr_value'].loc[df_jcs['jcr_value'].notnull()] = [number.replace(',','.') for number in df_jcs['jcr_value'] if type(number) != float]\n",
    "df_jcs['jcr_value'] = pd.to_numeric(df_jcs['jcr_value'])\n",
    "\n",
    "# SCIMAGO\n",
    "df_scimagojr.columns = df_scimagojr.columns.str.lower()\n",
    "df_scimagojr.rename(columns ={'sjr':'scimago_value'}, inplace=True)\n",
    "df_scimagojr.scimago_value.replace(to_replace=dict_treat_data, inplace=True)\n",
    "df_scimagojr.drop('rank', axis=1, inplace=True)\n",
    "df_scimagojr['title'] = df_scimagojr['title'].str.upper()\n",
    "df_scimagojr['title'] = df_scimagojr['title'].str.strip()\n",
    "df_scimagojr['issn'].replace(to_replace=dict_treat_data, inplace=True)\n",
    "df_scimagojr['scimago_value'].loc[df_scimagojr['scimago_value'].notnull()] = [number.replace(',','.') for number in df_scimagojr['scimago_value'] if type(number) != float]\n",
    "df_scimagojr['scimago_value'] = pd.to_numeric(df_scimagojr['scimago_value'])\n",
    "\n"
   ]
  },
  {
   "cell_type": "code",
   "execution_count": 635,
   "metadata": {},
   "outputs": [
    {
     "data": {
      "text/plain": [
       "0        62.937\n",
       "1        40.949\n",
       "2        37.461\n",
       "3        34.573\n",
       "4        32.011\n",
       "          ...  \n",
       "32599     0.100\n",
       "32600     0.100\n",
       "32601     0.100\n",
       "32602     0.100\n",
       "32603     0.100\n",
       "Name: scimago_value, Length: 32604, dtype: float64"
      ]
     },
     "execution_count": 635,
     "metadata": {},
     "output_type": "execute_result"
    }
   ],
   "source": [
    "df_scimagojr[df_scimagojr['scimago_value'].notnull()]['scimago_value']"
   ]
  },
  {
   "cell_type": "markdown",
   "metadata": {},
   "source": [
    "# Article Impact and Bibtex"
   ]
  },
  {
   "cell_type": "markdown",
   "metadata": {},
   "source": [
    "JOIN SCIMAGO AND BIBTEX"
   ]
  },
  {
   "cell_type": "code",
   "execution_count": 636,
   "metadata": {},
   "outputs": [],
   "source": [
    "df_bibtex = unionDf.copy()\n",
    "df_bibtex.columns = df_bibtex.columns.str.lower()\n",
    "\n",
    "df_bibtex.issn = df_bibtex.issn.replace(np.nan,'')\n",
    "df_bibtex.issn = list(map(lambda x: x.replace('-',''), df_bibtex.issn))"
   ]
  },
  {
   "cell_type": "code",
   "execution_count": 637,
   "metadata": {},
   "outputs": [
    {
     "name": "stdout",
     "output_type": "stream",
     "text": [
      "Column: issn0 shape:(39, 46)\n",
      "Column: issn1 shape:(0, 46)\n",
      "Column: issn2 shape:(0, 46)\n"
     ]
    }
   ],
   "source": [
    "# Trata scimago issn, criando colunas dinamicamente\n",
    "# 00257656, 16993993, 16994019\n",
    "# 19853718, 19858345, 21804249\n",
    "df_treat_scimago_issn = pd.DataFrame([x.split(',') for x in df_scimagojr.issn if type(x) != float])\n",
    "\n",
    "for col in df_treat_scimago_issn.columns:\n",
    "\tcolumn_name = 'issn' + str(col)\n",
    "\tdf_scimagojr.insert(len(df_scimagojr.columns), column_name, df_treat_scimago_issn[col])\n",
    "\n",
    "df_scimagojr.drop(columns='issn', inplace=True)\n",
    "\n",
    "list_issn_col = df_scimagojr.columns[df_scimagojr.columns.str.contains('issn')]\n",
    "list_df_join = []\n",
    "\n",
    "for col_name in list_issn_col:\n",
    "\tdf_join_temp = df_bibtex.merge(df_scimagojr, how='inner', left_on='issn', right_on=col_name, suffixes=['_1','_2']) \n",
    "\tprint('Column: ' + col_name + ' shape:' + str(df_join_temp.shape))\n",
    "\tlist_df_join.append(df_join_temp)\n",
    "\n",
    "df_bibtex_scimagoj = pd.concat(list_df_join).drop_duplicates()"
   ]
  },
  {
   "cell_type": "markdown",
   "metadata": {},
   "source": [
    "JOIN JCS AND BIBTEX"
   ]
  },
  {
   "cell_type": "code",
   "execution_count": 638,
   "metadata": {},
   "outputs": [],
   "source": [
    "df_bibtex['journal'] = df_bibtex['journal'].str.upper()\n",
    "df_bibtex['journal'] = df_bibtex['journal'].str.strip()\n",
    "\n",
    "df_bibtex_jcs = df_bibtex.merge(df_jcs, how='inner', left_on='journal', right_on='full journal title', suffixes=['_1','_2'])"
   ]
  },
  {
   "cell_type": "markdown",
   "metadata": {},
   "source": [
    "FILTRO"
   ]
  },
  {
   "cell_type": "code",
   "execution_count": 639,
   "metadata": {},
   "outputs": [
    {
     "name": "stdout",
     "output_type": "stream",
     "text": [
      "('Big Data', None, None, None, None, None, 2.082, 'CSV')\n"
     ]
    }
   ],
   "source": [
    "# CARREGA O ARQUIVO DE CONFIGURAÇÃO\n",
    "config_file_name = 'config_article_impact.yml'\n",
    "\n",
    "with open(os.path.join(dir_config, config_file_name)) as f:\n",
    "    config_file = yml.load(f, Loader=yml.loader.SafeLoader)\n",
    "\n",
    "filter_list = ( config_file['TITLE'],\\\n",
    "\tconfig_file['KEYWORDS'],\\\n",
    "\tconfig_file['YEAR'],\\\n",
    "\tconfig_file['TYPE_PUBLICATION'],\\\n",
    "\tconfig_file['DOI'],\\\n",
    "\tconfig_file['JCR_VALUE'],\\\n",
    "\tconfig_file['SCIMAGO_VALUE'],\\\n",
    "\tconfig_file['FORMATO']\n",
    "\t)\n",
    "\n",
    "if config_file['JCR_VALUE'] == None:\n",
    "\tconfig_file['JCR_VALUE'] = np.nan\n",
    "\n",
    "if config_file['SCIMAGO_VALUE'] == None:\n",
    "\tconfig_file['SCIMAGO_VALUE'] = np.nan\t\n",
    "\n",
    "print(filter_list)"
   ]
  },
  {
   "cell_type": "code",
   "execution_count": 640,
   "metadata": {},
   "outputs": [],
   "source": [
    "# JOIN\n",
    "df_bibtex_impact = pd.concat([df_bibtex_scimagoj, df_bibtex_jcs])\n",
    "\n",
    "# Filtro simultaneo\n",
    "df_filtro_texto = df_bibtex_impact.loc[\n",
    "\t(df_bibtex_impact.title_1.str.contains(\"{}\".format(config_file['TITLE']), case=False)) |\n",
    "\t(df_bibtex_impact.journal.str.contains(\"{}\".format(config_file['TITLE']), case=False)) |\n",
    "\t(df_bibtex_impact.keywords.str.contains(\"{}\".format(config_file['KEYWORDS']), case=False)) |\n",
    "\t(df_bibtex_impact.abstract.str.contains(\"{}\".format(config_file['ABSTRACT']), case=False)) |\n",
    "\t(df_bibtex_impact.year.str.contains(\"{}\".format(config_file['YEAR']), case=False)) |\n",
    "\t(df_bibtex_impact.type.str.contains(\"{}\".format(config_file['TYPE_PUBLICATION']), case=False)) |\n",
    "\t(df_bibtex_impact.doi.str.contains(\"{}\".format(config_file['DOI']), case=False))\n",
    "\t]\n",
    "\n",
    "df_filtro_final = df_filtro_texto.loc[(df_filtro_texto['jcr_value'] == config_file['JCR_VALUE']) |\n",
    "\t(df_filtro_texto['scimago_value'] == config_file['SCIMAGO_VALUE'])]\n"
   ]
  },
  {
   "cell_type": "code",
   "execution_count": 641,
   "metadata": {},
   "outputs": [
    {
     "data": {
      "text/html": [
       "<div>\n",
       "<style scoped>\n",
       "    .dataframe tbody tr th:only-of-type {\n",
       "        vertical-align: middle;\n",
       "    }\n",
       "\n",
       "    .dataframe tbody tr th {\n",
       "        vertical-align: top;\n",
       "    }\n",
       "\n",
       "    .dataframe thead th {\n",
       "        text-align: right;\n",
       "    }\n",
       "</style>\n",
       "<table border=\"1\" class=\"dataframe\">\n",
       "  <thead>\n",
       "    <tr style=\"text-align: right;\">\n",
       "      <th></th>\n",
       "      <th>title_1</th>\n",
       "      <th>journal</th>\n",
       "      <th>jcr_value</th>\n",
       "      <th>scimago_value</th>\n",
       "    </tr>\n",
       "  </thead>\n",
       "  <tbody>\n",
       "    <tr>\n",
       "      <th>0</th>\n",
       "      <td>Big Data Systems: A Software Engineering Persp...</td>\n",
       "      <td>ACM Comput. Surv.</td>\n",
       "      <td>NaN</td>\n",
       "      <td>2.082</td>\n",
       "    </tr>\n",
       "    <tr>\n",
       "      <th>1</th>\n",
       "      <td>Multimedia Big Data Analytics: A Survey</td>\n",
       "      <td>ACM Comput. Surv.</td>\n",
       "      <td>NaN</td>\n",
       "      <td>2.082</td>\n",
       "    </tr>\n",
       "    <tr>\n",
       "      <th>2</th>\n",
       "      <td>A Survey on IoT Big Data: Current Status, 13 V...</td>\n",
       "      <td>ACM Comput. Surv.</td>\n",
       "      <td>NaN</td>\n",
       "      <td>2.082</td>\n",
       "    </tr>\n",
       "    <tr>\n",
       "      <th>3</th>\n",
       "      <td>SLA Management for Big Data Analytical Applica...</td>\n",
       "      <td>ACM Comput. Surv.</td>\n",
       "      <td>NaN</td>\n",
       "      <td>2.082</td>\n",
       "    </tr>\n",
       "    <tr>\n",
       "      <th>4</th>\n",
       "      <td>Computational Health Informatics in the Big Da...</td>\n",
       "      <td>ACM Comput. Surv.</td>\n",
       "      <td>NaN</td>\n",
       "      <td>2.082</td>\n",
       "    </tr>\n",
       "  </tbody>\n",
       "</table>\n",
       "</div>"
      ],
      "text/plain": [
       "                                             title_1            journal  \\\n",
       "0  Big Data Systems: A Software Engineering Persp...  ACM Comput. Surv.   \n",
       "1            Multimedia Big Data Analytics: A Survey  ACM Comput. Surv.   \n",
       "2  A Survey on IoT Big Data: Current Status, 13 V...  ACM Comput. Surv.   \n",
       "3  SLA Management for Big Data Analytical Applica...  ACM Comput. Surv.   \n",
       "4  Computational Health Informatics in the Big Da...  ACM Comput. Surv.   \n",
       "\n",
       "   jcr_value  scimago_value  \n",
       "0        NaN          2.082  \n",
       "1        NaN          2.082  \n",
       "2        NaN          2.082  \n",
       "3        NaN          2.082  \n",
       "4        NaN          2.082  "
      ]
     },
     "execution_count": 641,
     "metadata": {},
     "output_type": "execute_result"
    }
   ],
   "source": [
    "df_filtro_final[['title_1','journal','jcr_value','scimago_value']].head(10)"
   ]
  },
  {
   "cell_type": "markdown",
   "metadata": {},
   "source": [
    "EXPORT"
   ]
  },
  {
   "cell_type": "code",
   "execution_count": 642,
   "metadata": {},
   "outputs": [
    {
     "name": "stdout",
     "output_type": "stream",
     "text": [
      "Export CSV to c:\\Users\\Saulo\\Documents\\GitHub\\MBA_PyForDE\\script_analisa_bibtex\\output\n"
     ]
    }
   ],
   "source": [
    "df_export(df_filtro_final,'bibtex_impact',config_file['FORMATO'] )"
   ]
  }
 ],
 "metadata": {
  "interpreter": {
   "hash": "c88cb824a805180d817a96a07b20374513adbd46c79f5fbf9d369ad17daacecf"
  },
  "kernelspec": {
   "display_name": "Python 3.9.7 ('base')",
   "language": "python",
   "name": "python3"
  },
  "language_info": {
   "codemirror_mode": {
    "name": "ipython",
    "version": 3
   },
   "file_extension": ".py",
   "mimetype": "text/x-python",
   "name": "python",
   "nbconvert_exporter": "python",
   "pygments_lexer": "ipython3",
   "version": "3.9.7"
  },
  "orig_nbformat": 4
 },
 "nbformat": 4,
 "nbformat_minor": 2
}
