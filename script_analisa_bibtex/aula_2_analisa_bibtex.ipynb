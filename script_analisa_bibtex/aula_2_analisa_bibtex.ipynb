{
 "cells": [
  {
   "cell_type": "code",
   "execution_count": 182,
   "metadata": {},
   "outputs": [],
   "source": [
    "import bibtexparser as bp\n",
    "import pandas as pd\n",
    "import numpy as np\n",
    "import yaml as yml\n",
    "\n",
    "# CARREGA O ARQUIVO DE CONFIGURAÇÃO\n",
    "dirConfig = r'D:\\Impacta\\Python for Data Engineer\\Aula 2\\Arquivos'\n",
    "configFileName = 'config_analisa_bibtex.yml'\n",
    "\n",
    "with open(dirConfig + '\\\\' + configFileName) as f:\n",
    "    configFile = yml.load(f, Loader=yml.loader.SafeLoader)\n"
   ]
  },
  {
   "cell_type": "code",
   "execution_count": 183,
   "metadata": {},
   "outputs": [],
   "source": [
    "# EX BIBTEX\n",
    "listaArquivos = ( \\\n",
    "\tconfigFile['FILE_ACM'], \\\n",
    "\tconfigFile['FILE_IEE'], \\\n",
    "\tconfigFile['FILE_SD' ]\n",
    "\t)\n",
    "\n",
    "formatFile = configFile['FORMATO']\n",
    "\n",
    "dirInput = r'D:\\Impacta\\Python for Data Engineer\\Aula 2\\Arquivos\\input'\n",
    "dirOutput = r'D:\\Impacta\\Python for Data Engineer\\Aula 2\\Arquivos\\output'\n",
    "\n",
    "mergedFilesCSV = 'ALL_ARTICLES.csv'\n",
    "mergedFilesJSON = 'ALL_ARTICLES.json'\n",
    "mergedFilesYAML = 'ALL_ARTICLES.yml'\n",
    "\n",
    "def bibtexToDf(arqv):\n",
    "\tarquivo = arqv\n",
    "\twith open(dirInput + '\\\\' + arquivo, encoding='utf8') as f:\n",
    "\t\tbib_database = bp.load(f)\t\t\n",
    "\treturn bib_database.entries_dict.values()  # retorna uma lista de dicionarios\n",
    "\t\n",
    "# UNION Dataframes e Yml\n",
    "listaDf = []\n",
    "listaYml =[]\n",
    "for i in listaArquivos:\n",
    "\tsourceArticles = bibtexToDf(i)\n",
    "\tlistaDf.append(pd.DataFrame(sourceArticles))\n",
    "\tlistaYml.append(yml.dump(list(sourceArticles)))\n",
    "\n",
    "unionDf = pd.concat(listaDf)\n",
    "unionYml = ''.join(listaYml)"
   ]
  },
  {
   "cell_type": "code",
   "execution_count": 185,
   "metadata": {},
   "outputs": [
    {
     "name": "stdout",
     "output_type": "stream",
     "text": [
      "          ACM       IEEE         SD\n",
      "0   ENTRYTYPE  ENTRYTYPE  ENTRYTYPE\n",
      "1          ID         ID         ID\n",
      "2    abstract   abstract   abstract\n",
      "3     address     author     author\n",
      "4   articleno  booktitle        doi\n",
      "5      author        doi       issn\n",
      "6   booktitle       issn    journal\n",
      "7         doi   keywords   keywords\n",
      "8        isbn      month       note\n",
      "9    keywords     number      pages\n",
      "10   location      pages      title\n",
      "11   numpages      title        url\n",
      "12      pages     volume     volume\n",
      "13  publisher       year       year\n",
      "14     series       None       None\n",
      "15      title       None       None\n",
      "16        url       None       None\n",
      "17       year       None       None\n",
      "\n",
      "Distinct de todas as colunas: ['ENTRYTYPE' 'ID' 'abstract' 'address' 'author' 'articleno' 'booktitle'\n",
      " 'doi' 'issn' 'journal' 'keywords' 'isbn' 'month' 'note' 'number' 'pages'\n",
      " 'location' 'title' 'numpages' 'url' 'volume' 'publisher' 'year' 'series']\n",
      "\n"
     ]
    }
   ],
   "source": [
    "# COMPARA COLUNAS PARA PADRONIZAR\n",
    "dfCol = pd.DataFrame([df.columns.sort_values() for df in listaDf])\n",
    "dfCompCol = dfCol.T.rename(columns={0: 'ACM', 1: 'IEEE', 2: 'SD'})\n",
    "print(dfCompCol)\n",
    "\n",
    "# COLUNAS UNICAS\n",
    "dfToArray = dfCompCol.fillna('NULL').values\n",
    "dfValoresUnicos = pd.unique(dfToArray[dfToArray != 'NULL'])\n",
    "\n",
    "print('\\nDistinct de todas as colunas: ' + str(dfValoresUnicos) + '\\n')"
   ]
  },
  {
   "cell_type": "code",
   "execution_count": 186,
   "metadata": {},
   "outputs": [
    {
     "data": {
      "text/plain": [
       "{'address',\n",
       " 'articleno',\n",
       " 'isbn',\n",
       " 'journal',\n",
       " 'location',\n",
       " 'month',\n",
       " 'note',\n",
       " 'number',\n",
       " 'numpages',\n",
       " 'publisher',\n",
       " 'series'}"
      ]
     },
     "execution_count": 186,
     "metadata": {},
     "output_type": "execute_result"
    }
   ],
   "source": [
    "# COLUNAS EXCLUSIVAS\n",
    "# (set1 ^ set2 ^ set3) - (set1 & set2 & set3)\n",
    "# a ^ b = a.symmetric_difference(b)\n",
    "# a & b = a.intersection(b)\n",
    "# a - b = a.difference(b)\n",
    "\n",
    "set1 = set(dfCompCol['ACM'])\n",
    "set2 = set(dfCompCol['IEEE'])\n",
    "set3 = set(dfCompCol['SD'])\n",
    "\n",
    "(set1 ^ set2 ^ set3) - (set1 & set2 & set3)\n"
   ]
  },
  {
   "cell_type": "code",
   "execution_count": 187,
   "metadata": {},
   "outputs": [],
   "source": [
    "# EXPORT arquivos\n",
    "if formatFile == 'CSV':\n",
    "\tunionDf.to_csv(dirOutput + '\\\\' + mergedFilesCSV, index=False, encoding='utf-8')\n",
    "elif formatFile == 'JSON':\n",
    "\tunionDf.to_json(dirOutput + '\\\\' + mergedFilesJSON, orient = 'records')\n",
    "elif formatFile == 'YAML':\n",
    "\twith open(dirOutput + '\\\\' + mergedFilesYAML, mode='w',encoding='utf8') as f:\n",
    "\t\tf.write(unionYml)\n",
    "else:\n",
    "\tprint('Formato não disponivel.')\n"
   ]
  }
 ],
 "metadata": {
  "interpreter": {
   "hash": "e85b0ff447d6ac887c9b29f0b65166963838341132469e7605d92aedcbed6513"
  },
  "kernelspec": {
   "display_name": "Python 3.9.7 ('base')",
   "language": "python",
   "name": "python3"
  },
  "language_info": {
   "codemirror_mode": {
    "name": "ipython",
    "version": 3
   },
   "file_extension": ".py",
   "mimetype": "text/x-python",
   "name": "python",
   "nbconvert_exporter": "python",
   "pygments_lexer": "ipython3",
   "version": "3.9.7"
  },
  "orig_nbformat": 4
 },
 "nbformat": 4,
 "nbformat_minor": 2
}
