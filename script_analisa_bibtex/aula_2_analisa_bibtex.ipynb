{
 "cells": [
  {
   "cell_type": "markdown",
   "metadata": {},
   "source": [
    "# Bibtex"
   ]
  },
  {
   "cell_type": "code",
   "execution_count": 224,
   "metadata": {},
   "outputs": [],
   "source": [
    "#from pymongo import MongoClient\n",
    "import bibtexparser as bp\n",
    "import pandas as pd\n",
    "import numpy as np\n",
    "import yaml as yml\n",
    "import os\n",
    "import requests\n",
    "import json\n",
    "import re\n",
    "import sqlite3\n",
    "\n",
    "dir_input = os.path.join(os.getcwd(), 'input')\n",
    "dir_output = os.path.join(os.getcwd(), 'output')\n",
    "dir_config = os.path.join(os.getcwd(), 'config')\n",
    "configFileName = 'config_analisa_bibtex.yml'\n"
   ]
  },
  {
   "cell_type": "code",
   "execution_count": 225,
   "metadata": {},
   "outputs": [],
   "source": [
    "# CARREGA O ARQUIVO DE CONFIGURAÇÃO\n",
    "with open(os.path.join(dir_config, configFileName)) as f:\n",
    "    configFile = yml.load(f, Loader=yml.loader.SafeLoader)\n",
    "\n",
    "# ANALISA BIBTEX\n",
    "listaArquivos = ( \\\n",
    "\tconfigFile['FILE_ACM'], \\\n",
    "\tconfigFile['FILE_IEE'], \\\n",
    "\tconfigFile['FILE_SD' ]\n",
    "\t)\n",
    "\n",
    "def bibtexToDict(arqv):\n",
    "\twith open(os.path.join(dir_input, arqv), encoding='utf8') as f:\n",
    "\t\tbib_database = bp.load(f)\t\t\n",
    "\treturn bib_database.entries_dict.values() # retorna lista de dicionarios\n",
    "\t\n",
    "# UNION DATAFRAMES AND YML\n",
    "listaDf = []\n",
    "listaYml =[]\n",
    "for arqv in listaArquivos:\n",
    "\tsourceArticles = bibtexToDict(arqv)\n",
    "\tlistaDf.append(pd.DataFrame(sourceArticles))\n",
    "\tlistaYml.append(yml.dump(list(sourceArticles)))\n",
    "\n",
    "unionDf = pd.concat(listaDf)\n",
    "unionYml = ''.join(listaYml)"
   ]
  },
  {
   "cell_type": "code",
   "execution_count": 226,
   "metadata": {},
   "outputs": [
    {
     "name": "stdout",
     "output_type": "stream",
     "text": [
      "Exported CSV to g:\\Impacta\\GitHub\\MBA_PyForDE\\script_analisa_bibtex\\output\n"
     ]
    }
   ],
   "source": [
    "def df_export(df, file_name, file_format):\n",
    "\tif file_format == 'CSV':\n",
    "\t\tdf.to_csv(os.path.join(dir_output, file_name + '.csv'), sep=';', index=False, encoding='utf-8')\t\t\n",
    "\t\tprint('Exported ' + file_format + ' to ' + dir_output)\n",
    "\telif file_format == 'JSON':\n",
    "\t\tdf.to_json(os.path.join(dir_output, file_name + '.json'), orient = 'records')\n",
    "\t\tprint('Exported ' + file_format + ' to ' + dir_output)\n",
    "\telif file_format == 'YAML':\n",
    "\t\twith open(os.path.join(dir_output, file_name + '.yml'), mode='w',encoding='utf8') as f:\n",
    "\t\t\tf.write(unionYml)\n",
    "\t\t\tprint('Exported ' + file_format + ' to ' + dir_output)\t\n",
    "\telse:\n",
    "\t\tprint('Formato não disponivel.')\n",
    "\n",
    "df_export(unionDf,'ALL_ARTICLES', configFile['FORMATO'])"
   ]
  },
  {
   "cell_type": "markdown",
   "metadata": {},
   "source": [
    "# Article Impact"
   ]
  },
  {
   "cell_type": "code",
   "execution_count": 227,
   "metadata": {},
   "outputs": [
    {
     "name": "stderr",
     "output_type": "stream",
     "text": [
      "c:\\Users\\Saulo\\anaconda3\\lib\\site-packages\\IPython\\core\\interactiveshell.py:3444: DtypeWarning: Columns (5) have mixed types.Specify dtype option on import or set low_memory=False.\n",
      "  exec(code_obj, self.user_global_ns, self.user_ns)\n",
      "c:\\Users\\Saulo\\anaconda3\\lib\\site-packages\\pandas\\core\\indexing.py:1732: SettingWithCopyWarning: \n",
      "A value is trying to be set on a copy of a slice from a DataFrame\n",
      "\n",
      "See the caveats in the documentation: https://pandas.pydata.org/pandas-docs/stable/user_guide/indexing.html#returning-a-view-versus-a-copy\n",
      "  self._setitem_single_block(indexer, value, name)\n"
     ]
    }
   ],
   "source": [
    "file_scimagojr = 'scimagojr 2020.csv'\n",
    "file_jcs = 'jcs_2020.csv'\n",
    "file_article_impact = 'ALL_Article_Impact.csv'\n",
    "\n",
    "df_scimagojr = pd.read_csv(os.path.join(dir_input, file_scimagojr), delimiter=';', quotechar='\"', header=0)\n",
    "df_jcs = pd.read_csv(os.path.join(dir_input, file_jcs), delimiter=';', quotechar='\"', header=0)\n",
    "\n",
    "# Tratamento\n",
    "dict_treat_data = {'-': np.nan, '': np.nan, None: np.nan, 'Not Available': np.nan}\n",
    "\n",
    "# JCS\n",
    "df_jcs.columns = df_jcs.columns.str.lower()\n",
    "df_jcs.rename(columns ={'journal impact factor':'jcr_value'}, inplace=True)\n",
    "df_jcs.jcr_value.replace(to_replace=dict_treat_data, inplace=True)\n",
    "df_jcs.drop(df_jcs.columns[df_jcs.columns.str.contains('unnamed') == True], axis=1, inplace=True) # Remove colunas vazias no arquivo\n",
    "df_jcs.drop('rank', axis=1, inplace=True)\n",
    "df_jcs.drop_duplicates(inplace=True) # Linha inteira duplicada\n",
    "df_jcs['full journal title'] = df_jcs['full journal title'].str.upper()\n",
    "df_jcs['full journal title'] = df_jcs['full journal title'].str.strip()\n",
    "df_jcs['jcr_value'].loc[df_jcs['jcr_value'].notnull()] = [number.replace(',','.') for number in df_jcs['jcr_value'] if type(number) != float]\n",
    "df_jcs['jcr_value'] = pd.to_numeric(df_jcs['jcr_value'])\n",
    "\n",
    "# SCIMAGO\n",
    "df_scimagojr.columns = df_scimagojr.columns.str.lower()\n",
    "df_scimagojr.rename(columns ={'sjr':'scimago_value'}, inplace=True)\n",
    "df_scimagojr.scimago_value.replace(to_replace=dict_treat_data, inplace=True)\n",
    "df_scimagojr.drop('rank', axis=1, inplace=True)\n",
    "df_scimagojr['title'] = df_scimagojr['title'].str.upper()\n",
    "df_scimagojr['title'] = df_scimagojr['title'].str.strip()\n",
    "df_scimagojr['issn'].replace(to_replace=dict_treat_data, inplace=True)\n",
    "df_scimagojr['scimago_value'].loc[df_scimagojr['scimago_value'].notnull()] = [number.replace(',','.') for number in df_scimagojr['scimago_value'] if type(number) != float]\n",
    "df_scimagojr['scimago_value'] = pd.to_numeric(df_scimagojr['scimago_value'])\n",
    "\n"
   ]
  },
  {
   "cell_type": "code",
   "execution_count": 228,
   "metadata": {},
   "outputs": [
    {
     "data": {
      "text/plain": [
       "0        62.937\n",
       "1        40.949\n",
       "2        37.461\n",
       "3        34.573\n",
       "4        32.011\n",
       "          ...  \n",
       "32599     0.100\n",
       "32600     0.100\n",
       "32601     0.100\n",
       "32602     0.100\n",
       "32603     0.100\n",
       "Name: scimago_value, Length: 32604, dtype: float64"
      ]
     },
     "execution_count": 228,
     "metadata": {},
     "output_type": "execute_result"
    }
   ],
   "source": [
    "df_scimagojr[df_scimagojr['scimago_value'].notnull()]['scimago_value']"
   ]
  },
  {
   "cell_type": "markdown",
   "metadata": {},
   "source": [
    "# Article Impact and Bibtex"
   ]
  },
  {
   "cell_type": "markdown",
   "metadata": {},
   "source": [
    "JOIN SCIMAGO AND BIBTEX"
   ]
  },
  {
   "cell_type": "code",
   "execution_count": 229,
   "metadata": {},
   "outputs": [],
   "source": [
    "df_bibtex = unionDf.copy()\n",
    "df_bibtex.columns = df_bibtex.columns.str.lower()\n",
    "\n",
    "df_bibtex.issn = df_bibtex.issn.replace(np.nan,'')\n",
    "df_bibtex.issn = list(map(lambda x: x.replace('-',''), df_bibtex.issn))"
   ]
  },
  {
   "cell_type": "code",
   "execution_count": 230,
   "metadata": {},
   "outputs": [
    {
     "name": "stdout",
     "output_type": "stream",
     "text": [
      "Column: issn0 shape:(39, 46)\n",
      "Column: issn1 shape:(0, 46)\n",
      "Column: issn2 shape:(0, 46)\n"
     ]
    }
   ],
   "source": [
    "# Trata scimago issn, criando colunas dinamicamente\n",
    "# 00257656, 16993993, 16994019\n",
    "# 19853718, 19858345, 21804249\n",
    "df_treat_scimago_issn = pd.DataFrame([x.split(',') for x in df_scimagojr.issn if type(x) != float])\n",
    "\n",
    "for col in df_treat_scimago_issn.columns:\n",
    "\tcolumn_name = 'issn' + str(col)\n",
    "\tdf_scimagojr.insert(len(df_scimagojr.columns), column_name, df_treat_scimago_issn[col])\n",
    "\n",
    "df_scimagojr.drop(columns='issn', inplace=True)\n",
    "\n",
    "list_issn_col = df_scimagojr.columns[df_scimagojr.columns.str.contains('issn')]\n",
    "list_df_join = []\n",
    "\n",
    "for col_name in list_issn_col:\n",
    "\tdf_join_temp = df_bibtex.merge(df_scimagojr, how='inner', left_on='issn', right_on=col_name, suffixes=['_1','_2']) \n",
    "\tprint('Column: ' + col_name + ' shape:' + str(df_join_temp.shape))\n",
    "\tlist_df_join.append(df_join_temp)\n",
    "\n",
    "df_bibtex_scimagoj = pd.concat(list_df_join)\\\n",
    "\t.drop_duplicates()\\\n",
    "\t\t.dropna(subset=['issn'])"
   ]
  },
  {
   "cell_type": "markdown",
   "metadata": {},
   "source": [
    "JOIN JCS AND BIBTEX"
   ]
  },
  {
   "cell_type": "code",
   "execution_count": 231,
   "metadata": {},
   "outputs": [
    {
     "data": {
      "text/plain": [
       "(19, 29)"
      ]
     },
     "execution_count": 231,
     "metadata": {},
     "output_type": "execute_result"
    }
   ],
   "source": [
    "df_bibtex['journal'] = df_bibtex['journal'].str.upper()\n",
    "df_bibtex['journal'] = df_bibtex['journal'].str.strip()\n",
    "\n",
    "df_bibtex_jcs = df_bibtex.merge(df_jcs, how='inner', left_on='journal', right_on='full journal title', suffixes=['_1','_2'])\n",
    "df_bibtex_jcs.shape"
   ]
  },
  {
   "cell_type": "markdown",
   "metadata": {},
   "source": [
    "JOIN  BIBTEX_SCIMAGOJ AND BIBTEX_JCS"
   ]
  },
  {
   "cell_type": "code",
   "execution_count": 232,
   "metadata": {},
   "outputs": [],
   "source": [
    "# JOIN\n",
    "df_bibtex_impact = pd.concat([df_bibtex_scimagoj, df_bibtex_jcs])"
   ]
  },
  {
   "cell_type": "markdown",
   "metadata": {},
   "source": [
    "FILTRO"
   ]
  },
  {
   "cell_type": "code",
   "execution_count": 233,
   "metadata": {},
   "outputs": [
    {
     "name": "stdout",
     "output_type": "stream",
     "text": [
      "('Big Data', None, None, None, None, None, 2.082, 'CSV')\n"
     ]
    }
   ],
   "source": [
    "# CARREGA O ARQUIVO DE CONFIGURAÇÃO\n",
    "config_file_name = 'config_article_impact.yml'\n",
    "\n",
    "with open(os.path.join(dir_config, config_file_name)) as f:\n",
    "    config_file = yml.load(f, Loader=yml.loader.SafeLoader)\n",
    "\n",
    "filter_list = ( config_file['TITLE'],\\\n",
    "\tconfig_file['KEYWORDS'],\\\n",
    "\tconfig_file['YEAR'],\\\n",
    "\tconfig_file['TYPE_PUBLICATION'],\\\n",
    "\tconfig_file['DOI'],\\\n",
    "\tconfig_file['JCR_VALUE'],\\\n",
    "\tconfig_file['SCIMAGO_VALUE'],\\\n",
    "\tconfig_file['FORMATO']\n",
    "\t)\n",
    "\n",
    "if config_file['JCR_VALUE'] == None:\n",
    "\tconfig_file['JCR_VALUE'] = np.nan\n",
    "\n",
    "if config_file['SCIMAGO_VALUE'] == None:\n",
    "\tconfig_file['SCIMAGO_VALUE'] = np.nan\t\n",
    "\n",
    "print(filter_list)"
   ]
  },
  {
   "cell_type": "code",
   "execution_count": 234,
   "metadata": {},
   "outputs": [],
   "source": [
    "# Filtro simultaneo\n",
    "df_filtro_texto = df_bibtex_impact.loc[\n",
    "\t(df_bibtex_impact.title_1.str.contains(\"{}\".format(config_file['TITLE']), case=False)) |\n",
    "\t(df_bibtex_impact.journal.str.contains(\"{}\".format(config_file['TITLE']), case=False)) |\n",
    "\t(df_bibtex_impact.keywords.str.contains(\"{}\".format(config_file['KEYWORDS']), case=False)) |\n",
    "\t(df_bibtex_impact.abstract.str.contains(\"{}\".format(config_file['ABSTRACT']), case=False)) |\n",
    "\t(df_bibtex_impact.year.str.contains(\"{}\".format(config_file['YEAR']), case=False)) |\n",
    "\t(df_bibtex_impact.type.str.contains(\"{}\".format(config_file['TYPE_PUBLICATION']), case=False)) |\n",
    "\t(df_bibtex_impact.doi.str.contains(\"{}\".format(config_file['DOI']), case=False))\n",
    "\t]\n",
    "\n",
    "df_filtro_final = df_filtro_texto.loc[(df_filtro_texto['jcr_value'] == config_file['JCR_VALUE']) |\n",
    "\t(df_filtro_texto['scimago_value'] == config_file['SCIMAGO_VALUE'])]\n"
   ]
  },
  {
   "cell_type": "code",
   "execution_count": 235,
   "metadata": {},
   "outputs": [
    {
     "data": {
      "text/html": [
       "<div>\n",
       "<style scoped>\n",
       "    .dataframe tbody tr th:only-of-type {\n",
       "        vertical-align: middle;\n",
       "    }\n",
       "\n",
       "    .dataframe tbody tr th {\n",
       "        vertical-align: top;\n",
       "    }\n",
       "\n",
       "    .dataframe thead th {\n",
       "        text-align: right;\n",
       "    }\n",
       "</style>\n",
       "<table border=\"1\" class=\"dataframe\">\n",
       "  <thead>\n",
       "    <tr style=\"text-align: right;\">\n",
       "      <th></th>\n",
       "      <th>title_1</th>\n",
       "      <th>journal</th>\n",
       "      <th>jcr_value</th>\n",
       "      <th>scimago_value</th>\n",
       "    </tr>\n",
       "  </thead>\n",
       "  <tbody>\n",
       "    <tr>\n",
       "      <th>0</th>\n",
       "      <td>Big Data Systems: A Software Engineering Persp...</td>\n",
       "      <td>ACM Comput. Surv.</td>\n",
       "      <td>NaN</td>\n",
       "      <td>2.082</td>\n",
       "    </tr>\n",
       "    <tr>\n",
       "      <th>1</th>\n",
       "      <td>Multimedia Big Data Analytics: A Survey</td>\n",
       "      <td>ACM Comput. Surv.</td>\n",
       "      <td>NaN</td>\n",
       "      <td>2.082</td>\n",
       "    </tr>\n",
       "    <tr>\n",
       "      <th>2</th>\n",
       "      <td>A Survey on IoT Big Data: Current Status, 13 V...</td>\n",
       "      <td>ACM Comput. Surv.</td>\n",
       "      <td>NaN</td>\n",
       "      <td>2.082</td>\n",
       "    </tr>\n",
       "    <tr>\n",
       "      <th>3</th>\n",
       "      <td>SLA Management for Big Data Analytical Applica...</td>\n",
       "      <td>ACM Comput. Surv.</td>\n",
       "      <td>NaN</td>\n",
       "      <td>2.082</td>\n",
       "    </tr>\n",
       "    <tr>\n",
       "      <th>4</th>\n",
       "      <td>Computational Health Informatics in the Big Da...</td>\n",
       "      <td>ACM Comput. Surv.</td>\n",
       "      <td>NaN</td>\n",
       "      <td>2.082</td>\n",
       "    </tr>\n",
       "  </tbody>\n",
       "</table>\n",
       "</div>"
      ],
      "text/plain": [
       "                                             title_1            journal  \\\n",
       "0  Big Data Systems: A Software Engineering Persp...  ACM Comput. Surv.   \n",
       "1            Multimedia Big Data Analytics: A Survey  ACM Comput. Surv.   \n",
       "2  A Survey on IoT Big Data: Current Status, 13 V...  ACM Comput. Surv.   \n",
       "3  SLA Management for Big Data Analytical Applica...  ACM Comput. Surv.   \n",
       "4  Computational Health Informatics in the Big Da...  ACM Comput. Surv.   \n",
       "\n",
       "   jcr_value  scimago_value  \n",
       "0        NaN          2.082  \n",
       "1        NaN          2.082  \n",
       "2        NaN          2.082  \n",
       "3        NaN          2.082  \n",
       "4        NaN          2.082  "
      ]
     },
     "execution_count": 235,
     "metadata": {},
     "output_type": "execute_result"
    }
   ],
   "source": [
    "df_filtro_final[['title_1','journal','jcr_value','scimago_value']].head(10)"
   ]
  },
  {
   "cell_type": "markdown",
   "metadata": {},
   "source": [
    "EXPORT"
   ]
  },
  {
   "cell_type": "code",
   "execution_count": 236,
   "metadata": {},
   "outputs": [
    {
     "name": "stdout",
     "output_type": "stream",
     "text": [
      "Exported CSV to g:\\Impacta\\GitHub\\MBA_PyForDE\\script_analisa_bibtex\\output\n"
     ]
    }
   ],
   "source": [
    "df_export(df_filtro_final,'bibtex_impact',config_file['FORMATO'] )"
   ]
  },
  {
   "cell_type": "code",
   "execution_count": 237,
   "metadata": {},
   "outputs": [],
   "source": [
    "# # INSERE DADOS NO BANCO\n",
    "# client = MongoClient(\"localhost\", 27017)\n",
    "# \n",
    "# db = client.Projeto\n",
    "# db.projeto.insert_many(df_filtro_final.to_dict('records'))\n",
    "# "
   ]
  },
  {
   "cell_type": "code",
   "execution_count": 238,
   "metadata": {},
   "outputs": [
    {
     "name": "stdout",
     "output_type": "stream",
     "text": [
      "('dd43a9e67059d268b0a6eaf9f3d73cd4', 'zcw5heuva2mrz4an52gf32y6', \"/'data quality' AND 'big data'\", 'big data', 100, 'json')\n"
     ]
    }
   ],
   "source": [
    "# CARREGA O ARQUIVO DE CONFIGURAÇÃO\n",
    "config_file_name = 'config_api.yml'\n",
    "\n",
    "with open(os.path.join(dir_config, config_file_name)) as f:\n",
    "    config_file = yml.load(f, Loader=yml.loader.SafeLoader)\n",
    "\n",
    "url_config = ( config_file['API_TOKEN_SCOPUS'],\\\n",
    "\tconfig_file['API_TOKEN_IEEE'],\\\n",
    "\tconfig_file['API_STRING'],\\\n",
    "\tconfig_file['META_DATA'],\\\n",
    "\tconfig_file['MAX_RECORDS'],\\\n",
    "\tconfig_file['FORMATO']\n",
    "\t)\n",
    "\n",
    "print(url_config)"
   ]
  },
  {
   "cell_type": "code",
   "execution_count": 239,
   "metadata": {},
   "outputs": [],
   "source": [
    "# \n",
    "# url = 'https://ieeexploreapi.ieee.org/api/v1/search/articles?apikey=zcw5heuva2mrz4an52gf32y6&querytext='+config_file['API_STRING']\n",
    "# url_scopus = 'http://api.elsevier.com/content/search/scopus?query='+config_file['API_STRING']+'&apiKey=dd43a9e67059d268b0a6eaf9f3d73cd4'\n",
    "# ##var_union = []\n",
    "# \n",
    "# resposta_hoteis = requests.request('GET', url)\n",
    "# resposta_scopus = requests.request('GET', url_scopus)\n",
    "# var_teste = resposta_hoteis.json()\n",
    "# var_teste_scopus = resposta_scopus.json()\n",
    "# var_teste.items()\n",
    "# var_teste_scopus.items()\n",
    "# "
   ]
  },
  {
   "cell_type": "markdown",
   "metadata": {},
   "source": [
    "# Consuming API IEEE"
   ]
  },
  {
   "cell_type": "code",
   "execution_count": 276,
   "metadata": {},
   "outputs": [
    {
     "name": "stdout",
     "output_type": "stream",
     "text": [
      "{'apikey': 'zcw5heuva2mrz4an52gf32y6', 'format': 'json', 'max_records': 100, 'meta_data': 'big data', 'start_record': 1, 'sort_order': 'asc', 'sort_field': 'article_number'}\n",
      "\n",
      "total_records: 70529\n",
      "total_searched: 5631444\n"
     ]
    }
   ],
   "source": [
    "query_params = {\n",
    "\t\"apikey\": config_file['API_TOKEN_IEEE'],\\\n",
    "\t\"format\": config_file['FORMATO'],\\\n",
    "\t\"max_records\": config_file['MAX_RECORDS'],\\\n",
    "\t\"meta_data\": config_file['META_DATA'],\\\n",
    "    \"start_record\": 1,\\\n",
    "\t\"sort_order\": 'asc',\\\n",
    "\t\"sort_field\": 'article_number'\n",
    "\t}\n",
    "print(query_params)\n",
    "\n",
    "#requestsIEEE = requests.get(f'http://ieeexploreapi.ieee.org/api/v1/search/articles?apikey=zcw5heuva2mrz4an52gf32y6&format=json&max_records={max_records}&start_record=1&sort_order=asc&sort_field=article_number&\\\n",
    "requestsIEEE = requests.get('http://ieeexploreapi.ieee.org/api/v1/search/articles?', params=query_params)\n",
    "\n",
    "# Verificar se requestsIEEE.ok\n",
    "\n",
    "# dict_IEEE = json.loads(requestsIEEE.text)\n",
    "dict_api_ieee = requestsIEEE.json()\n",
    "\n",
    "print('\\ntotal_records: ' + str(dict_api_ieee['total_records']) +\\\n",
    "\t'\\ntotal_searched: ' + str(dict_api_ieee['total_searched']))\n",
    "\n",
    "df_api_original_articles = pd.DataFrame.from_dict(dict_api_ieee['articles'])\n",
    "df_api_articles = df_api_original_articles[['title', 'abstract', 'publication_year', 'authors', 'doi', 'content_type', 'issn', 'isbn']]\n"
   ]
  },
  {
   "cell_type": "code",
   "execution_count": 277,
   "metadata": {},
   "outputs": [
    {
     "data": {
      "text/html": [
       "<div>\n",
       "<style scoped>\n",
       "    .dataframe tbody tr th:only-of-type {\n",
       "        vertical-align: middle;\n",
       "    }\n",
       "\n",
       "    .dataframe tbody tr th {\n",
       "        vertical-align: top;\n",
       "    }\n",
       "\n",
       "    .dataframe thead th {\n",
       "        text-align: right;\n",
       "    }\n",
       "</style>\n",
       "<table border=\"1\" class=\"dataframe\">\n",
       "  <thead>\n",
       "    <tr style=\"text-align: right;\">\n",
       "      <th></th>\n",
       "      <th>0</th>\n",
       "    </tr>\n",
       "  </thead>\n",
       "  <tbody>\n",
       "    <tr>\n",
       "      <th>Content-Security-Policy</th>\n",
       "      <td>upgrade-insecure-requests</td>\n",
       "    </tr>\n",
       "    <tr>\n",
       "      <th>Content-Type</th>\n",
       "      <td>application/json;charset=utf-8</td>\n",
       "    </tr>\n",
       "    <tr>\n",
       "      <th>Date</th>\n",
       "      <td>Tue, 24 May 2022 01:40:50 GMT</td>\n",
       "    </tr>\n",
       "    <tr>\n",
       "      <th>Server</th>\n",
       "      <td>Mashery Proxy</td>\n",
       "    </tr>\n",
       "    <tr>\n",
       "      <th>Set-Cookie</th>\n",
       "      <td>JSESSIONID=xvDzuVHRqECkXdQHobAM07o7SCfZb7ms8-M...</td>\n",
       "    </tr>\n",
       "    <tr>\n",
       "      <th>Strict-Transport-Security</th>\n",
       "      <td>max-age=31536000; includeSubDomains</td>\n",
       "    </tr>\n",
       "    <tr>\n",
       "      <th>Vary</th>\n",
       "      <td>Origin,Access-Control-Request-Method,Access-Co...</td>\n",
       "    </tr>\n",
       "    <tr>\n",
       "      <th>X-Content-Type-Options</th>\n",
       "      <td>text/html; charset=UTF-8; nosniff</td>\n",
       "    </tr>\n",
       "    <tr>\n",
       "      <th>X-Mashery-Responder</th>\n",
       "      <td>prod-j-worker-us-east-1d-61.mashery.com</td>\n",
       "    </tr>\n",
       "    <tr>\n",
       "      <th>X-XSS-Protection</th>\n",
       "      <td>1</td>\n",
       "    </tr>\n",
       "    <tr>\n",
       "      <th>transfer-encoding</th>\n",
       "      <td>chunked</td>\n",
       "    </tr>\n",
       "    <tr>\n",
       "      <th>Connection</th>\n",
       "      <td>keep-alive</td>\n",
       "    </tr>\n",
       "  </tbody>\n",
       "</table>\n",
       "</div>"
      ],
      "text/plain": [
       "                                                                           0\n",
       "Content-Security-Policy                            upgrade-insecure-requests\n",
       "Content-Type                                  application/json;charset=utf-8\n",
       "Date                                           Tue, 24 May 2022 01:40:50 GMT\n",
       "Server                                                         Mashery Proxy\n",
       "Set-Cookie                 JSESSIONID=xvDzuVHRqECkXdQHobAM07o7SCfZb7ms8-M...\n",
       "Strict-Transport-Security                max-age=31536000; includeSubDomains\n",
       "Vary                       Origin,Access-Control-Request-Method,Access-Co...\n",
       "X-Content-Type-Options                     text/html; charset=UTF-8; nosniff\n",
       "X-Mashery-Responder                  prod-j-worker-us-east-1d-61.mashery.com\n",
       "X-XSS-Protection                                                           1\n",
       "transfer-encoding                                                    chunked\n",
       "Connection                                                        keep-alive"
      ]
     },
     "execution_count": 277,
     "metadata": {},
     "output_type": "execute_result"
    }
   ],
   "source": [
    "# response headers \n",
    "pd.DataFrame.from_dict(dict(requestsIEEE.headers), orient='index')"
   ]
  },
  {
   "cell_type": "code",
   "execution_count": 278,
   "metadata": {},
   "outputs": [
    {
     "data": {
      "text/html": [
       "<div>\n",
       "<style scoped>\n",
       "    .dataframe tbody tr th:only-of-type {\n",
       "        vertical-align: middle;\n",
       "    }\n",
       "\n",
       "    .dataframe tbody tr th {\n",
       "        vertical-align: top;\n",
       "    }\n",
       "\n",
       "    .dataframe thead th {\n",
       "        text-align: right;\n",
       "    }\n",
       "</style>\n",
       "<table border=\"1\" class=\"dataframe\">\n",
       "  <thead>\n",
       "    <tr style=\"text-align: right;\">\n",
       "      <th></th>\n",
       "      <th>0</th>\n",
       "    </tr>\n",
       "  </thead>\n",
       "  <tbody>\n",
       "    <tr>\n",
       "      <th>User-Agent</th>\n",
       "      <td>python-requests/2.26.0</td>\n",
       "    </tr>\n",
       "    <tr>\n",
       "      <th>Accept-Encoding</th>\n",
       "      <td>gzip, deflate, br</td>\n",
       "    </tr>\n",
       "    <tr>\n",
       "      <th>Accept</th>\n",
       "      <td>*/*</td>\n",
       "    </tr>\n",
       "    <tr>\n",
       "      <th>Connection</th>\n",
       "      <td>keep-alive</td>\n",
       "    </tr>\n",
       "  </tbody>\n",
       "</table>\n",
       "</div>"
      ],
      "text/plain": [
       "                                      0\n",
       "User-Agent       python-requests/2.26.0\n",
       "Accept-Encoding       gzip, deflate, br\n",
       "Accept                              */*\n",
       "Connection                   keep-alive"
      ]
     },
     "execution_count": 278,
     "metadata": {},
     "output_type": "execute_result"
    }
   ],
   "source": [
    "# request headers \n",
    "pd.DataFrame.from_dict(dict(requestsIEEE.request.headers), orient='index')"
   ]
  },
  {
   "cell_type": "markdown",
   "metadata": {},
   "source": [
    "Tratamento API IEE"
   ]
  },
  {
   "cell_type": "code",
   "execution_count": 279,
   "metadata": {},
   "outputs": [
    {
     "name": "stderr",
     "output_type": "stream",
     "text": [
      "C:\\Users\\Saulo\\AppData\\Local\\Temp/ipykernel_24624/3012637116.py:8: SettingWithCopyWarning: \n",
      "A value is trying to be set on a copy of a slice from a DataFrame.\n",
      "Try using .loc[row_indexer,col_indexer] = value instead\n",
      "\n",
      "See the caveats in the documentation: https://pandas.pydata.org/pandas-docs/stable/user_guide/indexing.html#returning-a-view-versus-a-copy\n",
      "  df_api_articles['authors'] = list_authors\n"
     ]
    },
    {
     "data": {
      "text/plain": [
       "0    N. Singla/J.A. O'Sullivan/R.S. Indeck/Yunxiang Wu\n",
       "1                                          A. Bhargava\n",
       "2    Jae-Seung Kim/R.S. Miyaoka/R.L. Harrison/P.E. ...\n",
       "3    M. Endo/T. Tsunoo/S. Kandatsu/S. Tanada/H. Ara...\n",
       "4    M.A. DeSousa/J. Machado/R.V. Ribeiro/C.M.F. Ca...\n",
       "5    N. Motomura/K. Nambu/A. Kojima/S. Tomiguchi/K....\n",
       "6    L.A. Ribeiro/P.R. Dellani/A. von Wangenheim/M....\n",
       "7                               A.B. Kahng/B. Dahlberg\n",
       "8                            M. Mese/P.P. Vaidyanathan\n",
       "9                                           W. Karpoff\n",
       "Name: authors, dtype: object"
      ]
     },
     "execution_count": 279,
     "metadata": {},
     "output_type": "execute_result"
    }
   ],
   "source": [
    "list_authors=[]\n",
    "\n",
    "# Trata autores, dicionario com listas aninhadas\n",
    "for count_articles, value in enumerate(df_api_articles['authors']):\n",
    "\tlist_authors.append([dict['full_name'] for dict in df_api_articles['authors'][count_articles]['authors']])\n",
    "\tlist_authors[count_articles] = '/'.join(list_authors[count_articles]) \n",
    "\n",
    "df_api_articles['authors'] = list_authors\n",
    "df_api_articles['authors'].head(10)"
   ]
  },
  {
   "cell_type": "code",
   "execution_count": 280,
   "metadata": {},
   "outputs": [
    {
     "name": "stderr",
     "output_type": "stream",
     "text": [
      "c:\\Users\\Saulo\\anaconda3\\lib\\site-packages\\pandas\\core\\indexing.py:1732: SettingWithCopyWarning: \n",
      "A value is trying to be set on a copy of a slice from a DataFrame\n",
      "\n",
      "See the caveats in the documentation: https://pandas.pydata.org/pandas-docs/stable/user_guide/indexing.html#returning-a-view-versus-a-copy\n",
      "  self._setitem_single_block(indexer, value, name)\n"
     ]
    }
   ],
   "source": [
    "# ISSN com '-'\n",
    "issn_treated = [issn.replace('-', '') for issn in df_api_articles['issn'] if type(issn) == str]\n",
    "df_api_articles['issn'].loc[df_api_articles['issn'].notna()] = issn_treated\n"
   ]
  },
  {
   "cell_type": "markdown",
   "metadata": {},
   "source": [
    "JOIN API IEEE AND SCIMAGO"
   ]
  },
  {
   "cell_type": "code",
   "execution_count": 281,
   "metadata": {},
   "outputs": [
    {
     "name": "stdout",
     "output_type": "stream",
     "text": [
      "Column: issn0 shape:(3, 29)\n",
      "Column: issn1 shape:(0, 29)\n",
      "Column: issn2 shape:(0, 29)\n"
     ]
    }
   ],
   "source": [
    "# Trata scimago issn, criando colunas dinamicamente\n",
    "# 00257656, 16993993, 16994019\n",
    "# 19853718, 19858345, 21804249\n",
    "list_issn_col = df_scimagojr.columns[df_scimagojr.columns.str.contains('issn')]\n",
    "list_df_join = []\n",
    "\n",
    "for col_name in list_issn_col:\n",
    "\tdf_join_temp = df_api_articles.merge(df_scimagojr, how='inner', left_on='issn', right_on=col_name, suffixes=[None,'_2'])\\\n",
    "\t\t.dropna(subset=['issn'])\t\n",
    "\tprint('Column: ' + col_name + ' shape:' + str(df_join_temp.shape))\n",
    "\tlist_df_join.append(df_join_temp)\n",
    "\n",
    "df_api_articles_scimagoj = pd.concat(list_df_join).drop_duplicates()\n",
    "\n",
    "df_api_articles_scimagoj = df_api_articles_scimagoj[['title', 'abstract', 'publication_year', 'authors', 'doi',\\\n",
    "\t 'content_type', 'issn', 'isbn','scimago_value']]"
   ]
  },
  {
   "cell_type": "markdown",
   "metadata": {},
   "source": [
    "JOIN API IEEE AND JCS"
   ]
  },
  {
   "cell_type": "code",
   "execution_count": 282,
   "metadata": {},
   "outputs": [
    {
     "name": "stderr",
     "output_type": "stream",
     "text": [
      "C:\\Users\\Saulo\\AppData\\Local\\Temp/ipykernel_24624/3730687943.py:3: SettingWithCopyWarning: \n",
      "A value is trying to be set on a copy of a slice from a DataFrame.\n",
      "Try using .loc[row_indexer,col_indexer] = value instead\n",
      "\n",
      "See the caveats in the documentation: https://pandas.pydata.org/pandas-docs/stable/user_guide/indexing.html#returning-a-view-versus-a-copy\n",
      "  df_api_articles['title'] = df_api_articles['title'].str.upper()\n",
      "C:\\Users\\Saulo\\AppData\\Local\\Temp/ipykernel_24624/3730687943.py:4: SettingWithCopyWarning: \n",
      "A value is trying to be set on a copy of a slice from a DataFrame.\n",
      "Try using .loc[row_indexer,col_indexer] = value instead\n",
      "\n",
      "See the caveats in the documentation: https://pandas.pydata.org/pandas-docs/stable/user_guide/indexing.html#returning-a-view-versus-a-copy\n",
      "  df_api_articles['title'] = df_api_articles['title'].str.strip()\n"
     ]
    },
    {
     "data": {
      "text/plain": [
       "(0, 9)"
      ]
     },
     "execution_count": 282,
     "metadata": {},
     "output_type": "execute_result"
    }
   ],
   "source": [
    "### JOIN API IEEE AND JCS\n",
    "\n",
    "df_api_articles['title'] = df_api_articles['title'].str.upper()\n",
    "df_api_articles['title'] = df_api_articles['title'].str.strip()\n",
    "\n",
    "df_api_articles_jcs = df_api_articles.merge(df_jcs, how='inner', left_on='title', right_on='full journal title', suffixes=[None,'_2'])\n",
    "df_api_articles_jcs = df_api_articles_jcs[['title', 'abstract', 'publication_year', 'authors', 'doi',\\\n",
    "\t 'content_type', 'issn', 'isbn','jcr_value']]\n",
    "\n",
    "df_api_articles_jcs.shape"
   ]
  },
  {
   "cell_type": "markdown",
   "metadata": {},
   "source": [
    "JOIN API IEEE AND SCIMAGO AND JCS"
   ]
  },
  {
   "cell_type": "code",
   "execution_count": 283,
   "metadata": {},
   "outputs": [
    {
     "data": {
      "text/html": [
       "<div>\n",
       "<style scoped>\n",
       "    .dataframe tbody tr th:only-of-type {\n",
       "        vertical-align: middle;\n",
       "    }\n",
       "\n",
       "    .dataframe tbody tr th {\n",
       "        vertical-align: top;\n",
       "    }\n",
       "\n",
       "    .dataframe thead th {\n",
       "        text-align: right;\n",
       "    }\n",
       "</style>\n",
       "<table border=\"1\" class=\"dataframe\">\n",
       "  <thead>\n",
       "    <tr style=\"text-align: right;\">\n",
       "      <th></th>\n",
       "      <th>title</th>\n",
       "      <th>abstract</th>\n",
       "      <th>publication_year</th>\n",
       "      <th>authors</th>\n",
       "      <th>doi</th>\n",
       "      <th>content_type</th>\n",
       "      <th>issn</th>\n",
       "      <th>isbn</th>\n",
       "      <th>scimago_value</th>\n",
       "      <th>jcr_value</th>\n",
       "    </tr>\n",
       "  </thead>\n",
       "  <tbody>\n",
       "    <tr>\n",
       "      <th>476748</th>\n",
       "      <td>CyclopsDistMedDB - a transparent gateway for d...</td>\n",
       "      <td>The image diagnosis area is the biggest medica...</td>\n",
       "      <td>2002</td>\n",
       "      <td>L.A. Ribeiro/P.R. Dellani/A. von Wangenheim/M....</td>\n",
       "      <td>10.1109/CBMS.2002.1011396</td>\n",
       "      <td>Conferences</td>\n",
       "      <td>10637125</td>\n",
       "      <td>0-7695-1614-9</td>\n",
       "      <td>0.283</td>\n",
       "      <td>NaN</td>\n",
       "    </tr>\n",
       "    <tr>\n",
       "      <th>476749</th>\n",
       "      <td>Mining negative association rules</td>\n",
       "      <td>The focus of this paper is the discovery of ne...</td>\n",
       "      <td>2002</td>\n",
       "      <td>Xiaohui Yuan/B.P. Buckles/Zhaoshan Yuan/Jian Z...</td>\n",
       "      <td>10.1109/ISCC.2002.1021739</td>\n",
       "      <td>Conferences</td>\n",
       "      <td>15301346</td>\n",
       "      <td>0-7695-1671-8</td>\n",
       "      <td>0.259</td>\n",
       "      <td>NaN</td>\n",
       "    </tr>\n",
       "    <tr>\n",
       "      <th>476750</th>\n",
       "      <td>Routing through the mist: privacy preserving c...</td>\n",
       "      <td>Ubiquitous computing is poised to revolutioniz...</td>\n",
       "      <td>2002</td>\n",
       "      <td>J. Al-Muhtadi/R. Campbell/A. Kapadia/M.D. Mick...</td>\n",
       "      <td>10.1109/ICDCS.2002.1022244</td>\n",
       "      <td>Conferences</td>\n",
       "      <td>10636927</td>\n",
       "      <td>0-7695-1585-1</td>\n",
       "      <td>0.609</td>\n",
       "      <td>NaN</td>\n",
       "    </tr>\n",
       "  </tbody>\n",
       "</table>\n",
       "</div>"
      ],
      "text/plain": [
       "                                                    title  \\\n",
       "476748  CyclopsDistMedDB - a transparent gateway for d...   \n",
       "476749                  Mining negative association rules   \n",
       "476750  Routing through the mist: privacy preserving c...   \n",
       "\n",
       "                                                 abstract  publication_year  \\\n",
       "476748  The image diagnosis area is the biggest medica...              2002   \n",
       "476749  The focus of this paper is the discovery of ne...              2002   \n",
       "476750  Ubiquitous computing is poised to revolutioniz...              2002   \n",
       "\n",
       "                                                  authors  \\\n",
       "476748  L.A. Ribeiro/P.R. Dellani/A. von Wangenheim/M....   \n",
       "476749  Xiaohui Yuan/B.P. Buckles/Zhaoshan Yuan/Jian Z...   \n",
       "476750  J. Al-Muhtadi/R. Campbell/A. Kapadia/M.D. Mick...   \n",
       "\n",
       "                               doi content_type      issn           isbn  \\\n",
       "476748   10.1109/CBMS.2002.1011396  Conferences  10637125  0-7695-1614-9   \n",
       "476749   10.1109/ISCC.2002.1021739  Conferences  15301346  0-7695-1671-8   \n",
       "476750  10.1109/ICDCS.2002.1022244  Conferences  10636927  0-7695-1585-1   \n",
       "\n",
       "        scimago_value  jcr_value  \n",
       "476748          0.283        NaN  \n",
       "476749          0.259        NaN  \n",
       "476750          0.609        NaN  "
      ]
     },
     "execution_count": 283,
     "metadata": {},
     "output_type": "execute_result"
    }
   ],
   "source": [
    "df_api_articles_final = pd.concat([df_api_articles_scimagoj, df_api_articles_jcs])\n",
    "df_api_articles_final"
   ]
  },
  {
   "cell_type": "markdown",
   "metadata": {},
   "source": [
    "### SQLite database"
   ]
  },
  {
   "cell_type": "code",
   "execution_count": 296,
   "metadata": {},
   "outputs": [
    {
     "data": {
      "text/plain": [
       "[('CyclopsDistMedDB - a transparent gateway for distributed medical data access in DICOM format',\n",
       "  \"The image diagnosis area is the biggest medical field in telemedicine, because it does not obligate a direct contact of the patient with the responsible radiologist during the building of the report. The persistent lack of specialists in places distant from urban centers makes telemedicine an important tool for the improvement of healthcare services. In this paper, we present a framework, called CyclopsDistMedDB (Cyclops Distributed Medical Database), for the integration of distributed DICOM medical record databases over wide areas. The system has a central module that is responsible for receiving the clients' requests about patient data (images, waveforms), performing the querying and retrieval of images, patient records, etc. from the specific DICOM databases containing the data requested, and delivering them to the clients. The data communication protocols adopted are DICOM, for retrieval of objects directly from the DICOM data servers, and CORBA (Common Object Request Broker Architecture), for the delivery of DICOM data to client applications.\",\n",
       "  2002,\n",
       "  'L.A. Ribeiro/P.R. Dellani/A. von Wangenheim/M.M. Richter/K. Maximini/E. Comunello',\n",
       "  '10.1109/CBMS.2002.1011396',\n",
       "  'Conferences',\n",
       "  '10637125',\n",
       "  '0-7695-1614-9',\n",
       "  0.283,\n",
       "  None),\n",
       " ('Mining negative association rules',\n",
       "  'The focus of this paper is the discovery of negative association rules. Such association rules are complementary to the sorts of association rules most often encountered in the literature and have the forms of X/spl rarr/ -Y or -X/spl rarr/Y. We present a rule discovery algorithm that finds a useful subset of valid negative rules. In generating negative rules, we employ a hierarchical graph-structured taxonomy of domain terms. A taxonomy containing classification information records the similarity between items. Given the taxonomy, sibling rules, duplicated from positive rules with a couple of items replaced, are derived together with their estimated confidence. Those sibling rules that bring big confidence deviation are considered candidate negative rules. Our study shows that negative association rules can be discovered efficiently from large database.',\n",
       "  2002,\n",
       "  'Xiaohui Yuan/B.P. Buckles/Zhaoshan Yuan/Jian Zhang',\n",
       "  '10.1109/ISCC.2002.1021739',\n",
       "  'Conferences',\n",
       "  '15301346',\n",
       "  '0-7695-1671-8',\n",
       "  0.259,\n",
       "  None),\n",
       " ('Routing through the mist: privacy preserving communication in ubiquitous computing environments',\n",
       "  'Ubiquitous computing is poised to revolutionize the way we compute and interact with each other. However, unless privacy concerns are taken into account early in the design process, we will end up creating a very effective distributed surveillance system, which would be a dream come true for electronic stalkers and \"big brothers\". We present a protocol, which preserves the privacy of users and keeps their communication anonymous. In effect, we create a \"mist\" that conceals users from the system and other users. Yet, users will still be able to enjoy seamless interaction with services and other entities that wander within the ubiquitous computing environment.',\n",
       "  2002,\n",
       "  'J. Al-Muhtadi/R. Campbell/A. Kapadia/M.D. Mickunas/Seung Yi',\n",
       "  '10.1109/ICDCS.2002.1022244',\n",
       "  'Conferences',\n",
       "  '10636927',\n",
       "  '0-7695-1585-1',\n",
       "  0.609,\n",
       "  None)]"
      ]
     },
     "execution_count": 296,
     "metadata": {},
     "output_type": "execute_result"
    }
   ],
   "source": [
    "conn = sqlite3.connect(':memory:')\n",
    "cur = conn.cursor()\n",
    "\n",
    "# cur.execute('''CREATE TABLE tb_articles\n",
    "#                 (title text\n",
    "#                  ....\n",
    "#                 ,isbn text)              \n",
    "#             ''')\n",
    " \n",
    "dict_data_types = {\n",
    "    'title': 'text',\n",
    "    'abstract': 'text',\n",
    "    'publication_year': 'integer',\n",
    "    'authors': 'text',\n",
    "    'doi': 'text',\n",
    "    'content_type': 'text',\n",
    "    'issn': 'text',\n",
    "    'isbn': 'text',\n",
    "    'scimago_value': 'real',\n",
    "    'jcr_value': 'real'\n",
    "    }\n",
    "\n",
    "df_api_articles_final.to_sql('tb_articles', conn, dtype=dict_data_types, if_exists='replace', index=False)\n",
    "\n",
    "cur.execute('SELECT * FROM tb_articles')\n",
    "[row for row in cur.fetchall()]"
   ]
  }
 ],
 "metadata": {
  "interpreter": {
   "hash": "c88cb824a805180d817a96a07b20374513adbd46c79f5fbf9d369ad17daacecf"
  },
  "kernelspec": {
   "display_name": "Python 3.9.7 ('base')",
   "language": "python",
   "name": "python3"
  },
  "language_info": {
   "codemirror_mode": {
    "name": "ipython",
    "version": 3
   },
   "file_extension": ".py",
   "mimetype": "text/x-python",
   "name": "python",
   "nbconvert_exporter": "python",
   "pygments_lexer": "ipython3",
   "version": "3.9.7"
  },
  "orig_nbformat": 4
 },
 "nbformat": 4,
 "nbformat_minor": 2
}
