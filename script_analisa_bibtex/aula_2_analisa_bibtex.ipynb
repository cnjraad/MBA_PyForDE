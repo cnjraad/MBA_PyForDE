{
 "cells": [
  {
   "cell_type": "code",
   "execution_count": 4,
   "metadata": {},
   "outputs": [],
   "source": [
    "import bibtexparser as bp\n",
    "import pandas as pd\n",
    "import numpy as np\n",
    "import yaml as yml\n",
    "\n",
    "# CARREGA O ARQUIVO DE CONFIGURAÇÃO\n",
    "dirConfig = r'D:\\Impacta\\Python for Data Engineer\\Aula 2\\Arquivos'\n",
    "configFileName = 'config_analisa_bibtex.yml'\n",
    "\n",
    "with open(dirConfig + '\\\\' + configFileName) as f:\n",
    "    configFile = yml.load(f, Loader=yml.loader.SafeLoader)\n"
   ]
  },
  {
   "cell_type": "code",
   "execution_count": 5,
   "metadata": {},
   "outputs": [],
   "source": [
    "# ANALISA BIBTEX\n",
    "listaArquivos = ( \\\n",
    "\tconfigFile['FILE_ACM'], \\\n",
    "\tconfigFile['FILE_IEE'], \\\n",
    "\tconfigFile['FILE_SD' ]\n",
    "\t)\n",
    "\n",
    "formatFile = configFile['FORMATO']\n",
    "\n",
    "dirInput = r'D:\\Impacta\\Python for Data Engineer\\Aula 2\\Arquivos\\input'\n",
    "dirOutput = r'D:\\Impacta\\Python for Data Engineer\\Aula 2\\Arquivos\\output'\n",
    "\n",
    "mergedFilesCSV = 'ALL_ARTICLES.csv'\n",
    "mergedFilesJSON = 'ALL_ARTICLES.json'\n",
    "mergedFilesYAML = 'ALL_ARTICLES.yml'\n",
    "\n",
    "def bibtexToDict(arqv):\n",
    "\tarquivo = arqv\n",
    "\twith open(dirInput + '\\\\' + arquivo, encoding='utf8') as f:\n",
    "\t\tbib_database = bp.load(f)\t\t\n",
    "\treturn bib_database.entries_dict.values()\n",
    "\t\n",
    "# UNION DATAFRAMES AND YML\n",
    "listaDf = []\n",
    "listaYml =[]\n",
    "for i in listaArquivos:\n",
    "\tsourceArticles = bibtexToDict(i)\n",
    "\tlistaDf.append(pd.DataFrame(sourceArticles))\n",
    "\tlistaYml.append(yml.dump(list(sourceArticles)))\n",
    "\n",
    "unionDf = pd.concat(listaDf)\n",
    "unionYml = ''.join(listaYml)"
   ]
  },
  {
   "cell_type": "code",
   "execution_count": 6,
   "metadata": {},
   "outputs": [],
   "source": [
    "# EXPORT\n",
    "if formatFile == 'CSV':\n",
    "\tunionDf.to_csv(dirOutput + '\\\\' + mergedFilesCSV, index=False, encoding='utf-8')\n",
    "elif formatFile == 'JSON':\n",
    "\tunionDf.to_json(dirOutput + '\\\\' + mergedFilesJSON, orient = 'records')\n",
    "elif formatFile == 'YAML':\n",
    "\twith open(dirOutput + '\\\\' + mergedFilesYAML, mode='w',encoding='utf8') as f:\n",
    "\t\tf.write(unionYml)\n",
    "else:\n",
    "\tprint('Formato não disponivel.')\n"
   ]
  }
 ],
 "metadata": {
  "interpreter": {
   "hash": "c88cb824a805180d817a96a07b20374513adbd46c79f5fbf9d369ad17daacecf"
  },
  "kernelspec": {
   "display_name": "Python 3.9.7 ('base')",
   "language": "python",
   "name": "python3"
  },
  "language_info": {
   "codemirror_mode": {
    "name": "ipython",
    "version": 3
   },
   "file_extension": ".py",
   "mimetype": "text/x-python",
   "name": "python",
   "nbconvert_exporter": "python",
   "pygments_lexer": "ipython3",
   "version": "3.9.7"
  },
  "orig_nbformat": 4
 },
 "nbformat": 4,
 "nbformat_minor": 2
}
