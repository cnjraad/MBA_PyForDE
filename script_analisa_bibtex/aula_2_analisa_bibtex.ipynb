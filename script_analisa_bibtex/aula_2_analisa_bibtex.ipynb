{
 "cells": [
  {
   "cell_type": "markdown",
   "metadata": {},
   "source": [
    "# Bibtex"
   ]
  },
  {
   "cell_type": "code",
   "execution_count": 1,
   "metadata": {},
   "outputs": [],
   "source": [
    "from pymongo import MongoClient\n",
    "import bibtexparser as bp\n",
    "import pandas as pd\n",
    "import numpy as np\n",
    "import yaml as yml\n",
    "import os\n",
    "import requests\n",
    "import json\n",
    "\n",
    "\n",
    "dir_input = os.path.join(os.getcwd(), 'input')\n",
    "dir_output = os.path.join(os.getcwd(), 'output')\n",
    "dir_config = os.path.join(os.getcwd(), 'config')\n",
    "configFileName = 'config_analisa_bibtex.yml'\n"
   ]
  },
  {
   "cell_type": "code",
   "execution_count": 2,
   "metadata": {},
   "outputs": [],
   "source": [
    "# CARREGA O ARQUIVO DE CONFIGURAÇÃO\n",
    "with open(os.path.join(dir_config, configFileName)) as f:\n",
    "    configFile = yml.load(f, Loader=yml.loader.SafeLoader)\n",
    "\n",
    "# ANALISA BIBTEX\n",
    "listaArquivos = ( \\\n",
    "\tconfigFile['FILE_ACM'], \\\n",
    "\tconfigFile['FILE_IEE'], \\\n",
    "\tconfigFile['FILE_SD' ]\n",
    "\t)\n",
    "\n",
    "def bibtexToDict(arqv):\n",
    "\twith open(os.path.join(dir_input, arqv), encoding='utf8') as f:\n",
    "\t\tbib_database = bp.load(f)\t\t\n",
    "\treturn bib_database.entries_dict.values() # retorna lista de dicionarios\n",
    "\t\n",
    "# UNION DATAFRAMES AND YML\n",
    "listaDf = []\n",
    "listaYml =[]\n",
    "for arqv in listaArquivos:\n",
    "\tsourceArticles = bibtexToDict(arqv)\n",
    "\tlistaDf.append(pd.DataFrame(sourceArticles))\n",
    "\tlistaYml.append(yml.dump(list(sourceArticles)))\n",
    "\n",
    "unionDf = pd.concat(listaDf)\n",
    "unionYml = ''.join(listaYml)"
   ]
  },
  {
   "cell_type": "code",
   "execution_count": 3,
   "metadata": {},
   "outputs": [
    {
     "name": "stdout",
     "output_type": "stream",
     "text": [
      "Export CSV to c:\\Scripts\\MBA_PyForDE-main\\script_analisa_bibtex\\output\n"
     ]
    }
   ],
   "source": [
    "def df_export(df, file_name, file_format):\n",
    "\tif file_format == 'CSV':\n",
    "\t\tdf.to_csv(os.path.join(dir_output, file_name + '.csv'), sep=';', index=False, encoding='utf-8')\t\t\n",
    "\t\tprint('Export ' + file_format + ' to ' + dir_output)\n",
    "\telif file_format == 'JSON':\n",
    "\t\tdf.to_json(os.path.join(dir_output, file_name + '.json'), orient = 'records')\n",
    "\t\tprint('Export ' + file_format + ' to ' + dir_output)\n",
    "\telif file_format == 'YAML':\n",
    "\t\twith open(os.path.join(dir_output, file_name + '.yml'), mode='w',encoding='utf8') as f:\n",
    "\t\t\tf.write(unionYml)\n",
    "\t\t\tprint('Export ' + file_format + ' to ' + dir_output)\t\n",
    "\telse:\n",
    "\t\tprint('Formato não disponivel.')\n",
    "\n",
    "df_export(unionDf,'ALL_ARTICLES', configFile['FORMATO'])"
   ]
  },
  {
   "cell_type": "markdown",
   "metadata": {},
   "source": [
    "# Article Impact"
   ]
  },
  {
   "cell_type": "code",
   "execution_count": 4,
   "metadata": {},
   "outputs": [
    {
     "name": "stderr",
     "output_type": "stream",
     "text": [
      "C:\\Users\\mclst\\AppData\\Local\\Temp\\ipykernel_7612\\96739498.py:5: DtypeWarning: Columns (5) have mixed types. Specify dtype option on import or set low_memory=False.\n",
      "  df_scimagojr = pd.read_csv(os.path.join(dir_input, file_scimagojr), delimiter=';', quotechar='\"', header=0)\n",
      "C:\\Users\\mclst\\AppData\\Local\\Temp\\ipykernel_7612\\96739498.py:20: SettingWithCopyWarning: \n",
      "A value is trying to be set on a copy of a slice from a DataFrame\n",
      "\n",
      "See the caveats in the documentation: https://pandas.pydata.org/pandas-docs/stable/user_guide/indexing.html#returning-a-view-versus-a-copy\n",
      "  df_jcs['jcr_value'].loc[df_jcs['jcr_value'].notnull()] = [number.replace(',','.') for number in df_jcs['jcr_value'] if type(number) != float]\n",
      "C:\\Users\\mclst\\AppData\\Local\\Temp\\ipykernel_7612\\96739498.py:31: SettingWithCopyWarning: \n",
      "A value is trying to be set on a copy of a slice from a DataFrame\n",
      "\n",
      "See the caveats in the documentation: https://pandas.pydata.org/pandas-docs/stable/user_guide/indexing.html#returning-a-view-versus-a-copy\n",
      "  df_scimagojr['scimago_value'].loc[df_scimagojr['scimago_value'].notnull()] = [number.replace(',','.') for number in df_scimagojr['scimago_value'] if type(number) != float]\n"
     ]
    }
   ],
   "source": [
    "file_scimagojr = 'scimagojr 2020.csv'\n",
    "file_jcs = 'jcs_2020.csv'\n",
    "file_article_impact = 'ALL_Article_Impact.csv'\n",
    "\n",
    "df_scimagojr = pd.read_csv(os.path.join(dir_input, file_scimagojr), delimiter=';', quotechar='\"', header=0)\n",
    "df_jcs = pd.read_csv(os.path.join(dir_input, file_jcs), delimiter=';', quotechar='\"', header=0)\n",
    "\n",
    "# Tratamento\n",
    "dict_treat_data = {'-': np.nan, '': np.nan, None: np.nan, 'Not Available': np.nan}\n",
    "\n",
    "# JCS\n",
    "df_jcs.columns = df_jcs.columns.str.lower()\n",
    "df_jcs.rename(columns ={'journal impact factor':'jcr_value'}, inplace=True)\n",
    "df_jcs.jcr_value.replace(to_replace=dict_treat_data, inplace=True)\n",
    "df_jcs.drop(df_jcs.columns[df_jcs.columns.str.contains('unnamed') == True], axis=1, inplace=True) # Remove colunas vazias no arquivo\n",
    "df_jcs.drop('rank', axis=1, inplace=True)\n",
    "df_jcs.drop_duplicates(inplace=True) # Linha inteira duplicada\n",
    "df_jcs['full journal title'] = df_jcs['full journal title'].str.upper()\n",
    "df_jcs['full journal title'] = df_jcs['full journal title'].str.strip()\n",
    "df_jcs['jcr_value'].loc[df_jcs['jcr_value'].notnull()] = [number.replace(',','.') for number in df_jcs['jcr_value'] if type(number) != float]\n",
    "df_jcs['jcr_value'] = pd.to_numeric(df_jcs['jcr_value'])\n",
    "\n",
    "# SCIMAGO\n",
    "df_scimagojr.columns = df_scimagojr.columns.str.lower()\n",
    "df_scimagojr.rename(columns ={'sjr':'scimago_value'}, inplace=True)\n",
    "df_scimagojr.scimago_value.replace(to_replace=dict_treat_data, inplace=True)\n",
    "df_scimagojr.drop('rank', axis=1, inplace=True)\n",
    "df_scimagojr['title'] = df_scimagojr['title'].str.upper()\n",
    "df_scimagojr['title'] = df_scimagojr['title'].str.strip()\n",
    "df_scimagojr['issn'].replace(to_replace=dict_treat_data, inplace=True)\n",
    "df_scimagojr['scimago_value'].loc[df_scimagojr['scimago_value'].notnull()] = [number.replace(',','.') for number in df_scimagojr['scimago_value'] if type(number) != float]\n",
    "df_scimagojr['scimago_value'] = pd.to_numeric(df_scimagojr['scimago_value'])\n",
    "\n"
   ]
  },
  {
   "cell_type": "code",
   "execution_count": 5,
   "metadata": {},
   "outputs": [
    {
     "data": {
      "text/plain": [
       "0        62.937\n",
       "1        40.949\n",
       "2        37.461\n",
       "3        34.573\n",
       "4        32.011\n",
       "          ...  \n",
       "32599     0.100\n",
       "32600     0.100\n",
       "32601     0.100\n",
       "32602     0.100\n",
       "32603     0.100\n",
       "Name: scimago_value, Length: 32604, dtype: float64"
      ]
     },
     "execution_count": 5,
     "metadata": {},
     "output_type": "execute_result"
    }
   ],
   "source": [
    "df_scimagojr[df_scimagojr['scimago_value'].notnull()]['scimago_value']"
   ]
  },
  {
   "cell_type": "markdown",
   "metadata": {},
   "source": [
    "# Article Impact and Bibtex"
   ]
  },
  {
   "cell_type": "markdown",
   "metadata": {},
   "source": [
    "JOIN SCIMAGO AND BIBTEX"
   ]
  },
  {
   "cell_type": "code",
   "execution_count": 6,
   "metadata": {},
   "outputs": [],
   "source": [
    "df_bibtex = unionDf.copy()\n",
    "df_bibtex.columns = df_bibtex.columns.str.lower()\n",
    "\n",
    "df_bibtex.issn = df_bibtex.issn.replace(np.nan,'')\n",
    "df_bibtex.issn = list(map(lambda x: x.replace('-',''), df_bibtex.issn))"
   ]
  },
  {
   "cell_type": "code",
   "execution_count": 7,
   "metadata": {},
   "outputs": [
    {
     "name": "stdout",
     "output_type": "stream",
     "text": [
      "Column: issn0 shape:(39, 46)\n",
      "Column: issn1 shape:(0, 46)\n",
      "Column: issn2 shape:(0, 46)\n"
     ]
    }
   ],
   "source": [
    "# Trata scimago issn, criando colunas dinamicamente\n",
    "# 00257656, 16993993, 16994019\n",
    "# 19853718, 19858345, 21804249\n",
    "df_treat_scimago_issn = pd.DataFrame([x.split(',') for x in df_scimagojr.issn if type(x) != float])\n",
    "\n",
    "for col in df_treat_scimago_issn.columns:\n",
    "\tcolumn_name = 'issn' + str(col)\n",
    "\tdf_scimagojr.insert(len(df_scimagojr.columns), column_name, df_treat_scimago_issn[col])\n",
    "\n",
    "df_scimagojr.drop(columns='issn', inplace=True)\n",
    "\n",
    "list_issn_col = df_scimagojr.columns[df_scimagojr.columns.str.contains('issn')]\n",
    "list_df_join = []\n",
    "\n",
    "for col_name in list_issn_col:\n",
    "\tdf_join_temp = df_bibtex.merge(df_scimagojr, how='inner', left_on='issn', right_on=col_name, suffixes=['_1','_2']) \n",
    "\tprint('Column: ' + col_name + ' shape:' + str(df_join_temp.shape))\n",
    "\tlist_df_join.append(df_join_temp)\n",
    "\n",
    "df_bibtex_scimagoj = pd.concat(list_df_join).drop_duplicates()"
   ]
  },
  {
   "cell_type": "markdown",
   "metadata": {},
   "source": [
    "JOIN JCS AND BIBTEX"
   ]
  },
  {
   "cell_type": "code",
   "execution_count": 8,
   "metadata": {},
   "outputs": [],
   "source": [
    "df_bibtex['journal'] = df_bibtex['journal'].str.upper()\n",
    "df_bibtex['journal'] = df_bibtex['journal'].str.strip()\n",
    "\n",
    "df_bibtex_jcs = df_bibtex.merge(df_jcs, how='inner', left_on='journal', right_on='full journal title', suffixes=['_1','_2'])"
   ]
  },
  {
   "cell_type": "markdown",
   "metadata": {},
   "source": [
    "FILTRO"
   ]
  },
  {
   "cell_type": "code",
   "execution_count": 9,
   "metadata": {},
   "outputs": [
    {
     "name": "stdout",
     "output_type": "stream",
     "text": [
      "('Big Data', None, None, None, None, None, 2.082, 'CSV')\n"
     ]
    }
   ],
   "source": [
    "# CARREGA O ARQUIVO DE CONFIGURAÇÃO\n",
    "config_file_name = 'config_article_impact.yml'\n",
    "\n",
    "with open(os.path.join(dir_config, config_file_name)) as f:\n",
    "    config_file = yml.load(f, Loader=yml.loader.SafeLoader)\n",
    "\n",
    "filter_list = ( config_file['TITLE'],\\\n",
    "\tconfig_file['KEYWORDS'],\\\n",
    "\tconfig_file['YEAR'],\\\n",
    "\tconfig_file['TYPE_PUBLICATION'],\\\n",
    "\tconfig_file['DOI'],\\\n",
    "\tconfig_file['JCR_VALUE'],\\\n",
    "\tconfig_file['SCIMAGO_VALUE'],\\\n",
    "\tconfig_file['FORMATO']\n",
    "\t)\n",
    "\n",
    "if config_file['JCR_VALUE'] == None:\n",
    "\tconfig_file['JCR_VALUE'] = np.nan\n",
    "\n",
    "if config_file['SCIMAGO_VALUE'] == None:\n",
    "\tconfig_file['SCIMAGO_VALUE'] = np.nan\t\n",
    "\n",
    "print(filter_list)"
   ]
  },
  {
   "cell_type": "code",
   "execution_count": 10,
   "metadata": {},
   "outputs": [],
   "source": [
    "# JOIN\n",
    "df_bibtex_impact = pd.concat([df_bibtex_scimagoj, df_bibtex_jcs])\n",
    "\n",
    "# Filtro simultaneo\n",
    "df_filtro_texto = df_bibtex_impact.loc[\n",
    "\t(df_bibtex_impact.title_1.str.contains(\"{}\".format(config_file['TITLE']), case=False)) |\n",
    "\t(df_bibtex_impact.journal.str.contains(\"{}\".format(config_file['TITLE']), case=False)) |\n",
    "\t(df_bibtex_impact.keywords.str.contains(\"{}\".format(config_file['KEYWORDS']), case=False)) |\n",
    "\t(df_bibtex_impact.abstract.str.contains(\"{}\".format(config_file['ABSTRACT']), case=False)) |\n",
    "\t(df_bibtex_impact.year.str.contains(\"{}\".format(config_file['YEAR']), case=False)) |\n",
    "\t(df_bibtex_impact.type.str.contains(\"{}\".format(config_file['TYPE_PUBLICATION']), case=False)) |\n",
    "\t(df_bibtex_impact.doi.str.contains(\"{}\".format(config_file['DOI']), case=False))\n",
    "\t]\n",
    "\n",
    "df_filtro_final = df_filtro_texto.loc[(df_filtro_texto['jcr_value'] == config_file['JCR_VALUE']) |\n",
    "\t(df_filtro_texto['scimago_value'] == config_file['SCIMAGO_VALUE'])]\n"
   ]
  },
  {
   "cell_type": "code",
   "execution_count": 11,
   "metadata": {},
   "outputs": [
    {
     "data": {
      "text/html": [
       "<div>\n",
       "<style scoped>\n",
       "    .dataframe tbody tr th:only-of-type {\n",
       "        vertical-align: middle;\n",
       "    }\n",
       "\n",
       "    .dataframe tbody tr th {\n",
       "        vertical-align: top;\n",
       "    }\n",
       "\n",
       "    .dataframe thead th {\n",
       "        text-align: right;\n",
       "    }\n",
       "</style>\n",
       "<table border=\"1\" class=\"dataframe\">\n",
       "  <thead>\n",
       "    <tr style=\"text-align: right;\">\n",
       "      <th></th>\n",
       "      <th>title_1</th>\n",
       "      <th>journal</th>\n",
       "      <th>jcr_value</th>\n",
       "      <th>scimago_value</th>\n",
       "    </tr>\n",
       "  </thead>\n",
       "  <tbody>\n",
       "    <tr>\n",
       "      <th>0</th>\n",
       "      <td>Big Data Systems: A Software Engineering Persp...</td>\n",
       "      <td>ACM Comput. Surv.</td>\n",
       "      <td>NaN</td>\n",
       "      <td>2.082</td>\n",
       "    </tr>\n",
       "    <tr>\n",
       "      <th>1</th>\n",
       "      <td>Multimedia Big Data Analytics: A Survey</td>\n",
       "      <td>ACM Comput. Surv.</td>\n",
       "      <td>NaN</td>\n",
       "      <td>2.082</td>\n",
       "    </tr>\n",
       "    <tr>\n",
       "      <th>2</th>\n",
       "      <td>A Survey on IoT Big Data: Current Status, 13 V...</td>\n",
       "      <td>ACM Comput. Surv.</td>\n",
       "      <td>NaN</td>\n",
       "      <td>2.082</td>\n",
       "    </tr>\n",
       "    <tr>\n",
       "      <th>3</th>\n",
       "      <td>SLA Management for Big Data Analytical Applica...</td>\n",
       "      <td>ACM Comput. Surv.</td>\n",
       "      <td>NaN</td>\n",
       "      <td>2.082</td>\n",
       "    </tr>\n",
       "    <tr>\n",
       "      <th>4</th>\n",
       "      <td>Computational Health Informatics in the Big Da...</td>\n",
       "      <td>ACM Comput. Surv.</td>\n",
       "      <td>NaN</td>\n",
       "      <td>2.082</td>\n",
       "    </tr>\n",
       "  </tbody>\n",
       "</table>\n",
       "</div>"
      ],
      "text/plain": [
       "                                             title_1            journal  \\\n",
       "0  Big Data Systems: A Software Engineering Persp...  ACM Comput. Surv.   \n",
       "1            Multimedia Big Data Analytics: A Survey  ACM Comput. Surv.   \n",
       "2  A Survey on IoT Big Data: Current Status, 13 V...  ACM Comput. Surv.   \n",
       "3  SLA Management for Big Data Analytical Applica...  ACM Comput. Surv.   \n",
       "4  Computational Health Informatics in the Big Da...  ACM Comput. Surv.   \n",
       "\n",
       "   jcr_value  scimago_value  \n",
       "0        NaN          2.082  \n",
       "1        NaN          2.082  \n",
       "2        NaN          2.082  \n",
       "3        NaN          2.082  \n",
       "4        NaN          2.082  "
      ]
     },
     "execution_count": 11,
     "metadata": {},
     "output_type": "execute_result"
    }
   ],
   "source": [
    "df_filtro_final[['title_1','journal','jcr_value','scimago_value']].head(10)"
   ]
  },
  {
   "cell_type": "markdown",
   "metadata": {},
   "source": [
    "EXPORT"
   ]
  },
  {
   "cell_type": "code",
   "execution_count": 12,
   "metadata": {},
   "outputs": [
    {
     "name": "stdout",
     "output_type": "stream",
     "text": [
      "Export CSV to c:\\Scripts\\MBA_PyForDE-main\\script_analisa_bibtex\\output\n"
     ]
    }
   ],
   "source": [
    "df_export(df_filtro_final,'bibtex_impact',config_file['FORMATO'] )"
   ]
  },
  {
   "cell_type": "code",
   "execution_count": 13,
   "metadata": {},
   "outputs": [
    {
     "data": {
      "text/plain": [
       "<pymongo.results.InsertManyResult at 0x1dcb7c58400>"
      ]
     },
     "execution_count": 13,
     "metadata": {},
     "output_type": "execute_result"
    }
   ],
   "source": [
    "# INSERE DADOS NO BANCO\n",
    "client = MongoClient(\"localhost\", 27017)\n",
    "\n",
    "db = client.Projeto\n",
    "db.projeto.insert_many(df_filtro_final.to_dict('records'))\n"
   ]
  },
  {
   "cell_type": "code",
   "execution_count": 14,
   "metadata": {},
   "outputs": [
    {
     "name": "stdout",
     "output_type": "stream",
     "text": [
      "('dd43a9e67059d268b0a6eaf9f3d73cd4', 'zcw5heuva2mrz4an52gf32y6', \"/'data quality' AND 'big data'\", 'JSON')\n"
     ]
    }
   ],
   "source": [
    "# CARREGA O ARQUIVO DE CONFIGURAÇÃO\n",
    "config_file_name = 'config_api.yml'\n",
    "\n",
    "with open(os.path.join(dir_config, config_file_name)) as f:\n",
    "    config_file = yml.load(f, Loader=yml.loader.SafeLoader)\n",
    "\n",
    "url_config = ( config_file['API_TOKEN_SCOPUS'],\\\n",
    "\tconfig_file['API_TOKEN_IEEE'],\\\n",
    "\tconfig_file['API_STRING'],\\\n",
    "\tconfig_file['FORMATO']\n",
    "\t)\n",
    "\n",
    "print(url_config)"
   ]
  },
  {
   "cell_type": "code",
   "execution_count": 15,
   "metadata": {},
   "outputs": [
    {
     "data": {
      "text/plain": [
       "dict_items([('search-results', {'opensearch:totalResults': '280830', 'opensearch:startIndex': '0', 'opensearch:itemsPerPage': '25', 'opensearch:Query': {'@role': 'request', '@searchTerms': \"/'data quality' AND 'big data'\", '@startPage': '0'}, 'link': [{'@_fa': 'true', '@ref': 'self', '@href': 'https://api.elsevier.com/content/search/scopus?start=0&count=25&query=%2F%27data+quality%27+AND+%27big+data%27&apiKey=dd43a9e67059d268b0a6eaf9f3d73cd4', '@type': 'application/json'}, {'@_fa': 'true', '@ref': 'first', '@href': 'https://api.elsevier.com/content/search/scopus?start=0&count=25&query=%2F%27data+quality%27+AND+%27big+data%27&apiKey=dd43a9e67059d268b0a6eaf9f3d73cd4', '@type': 'application/json'}, {'@_fa': 'true', '@ref': 'next', '@href': 'https://api.elsevier.com/content/search/scopus?start=25&count=25&query=%2F%27data+quality%27+AND+%27big+data%27&apiKey=dd43a9e67059d268b0a6eaf9f3d73cd4', '@type': 'application/json'}, {'@_fa': 'true', '@ref': 'last', '@href': 'https://api.elsevier.com/content/search/scopus?start=4975&count=25&query=%2F%27data+quality%27+AND+%27big+data%27&apiKey=dd43a9e67059d268b0a6eaf9f3d73cd4', '@type': 'application/json'}], 'entry': [{'@_fa': 'true', 'link': [{'@_fa': 'true', '@ref': 'self', '@href': 'https://api.elsevier.com/content/abstract/scopus_id/85124983048'}, {'@_fa': 'true', '@ref': 'author-affiliation', '@href': 'https://api.elsevier.com/content/abstract/scopus_id/85124983048?field=author,affiliation'}, {'@_fa': 'true', '@ref': 'scopus', '@href': 'https://www.scopus.com/inward/record.uri?partnerID=HzOxMe3b&scp=85124983048&origin=inward'}, {'@_fa': 'true', '@ref': 'scopus-citedby', '@href': 'https://www.scopus.com/inward/citedby.uri?partnerID=HzOxMe3b&scp=85124983048&origin=inward'}], 'prism:url': 'https://api.elsevier.com/content/abstract/scopus_id/85124983048', 'dc:identifier': 'SCOPUS_ID:85124983048', 'eid': '2-s2.0-85124983048', 'dc:title': 'Assessment of land use cover changes, carbon sequestration and carbon stock in dry temperate forests of Chilas watershed, Gilgit-Baltistan', 'dc:creator': 'Raqeeb A.', 'prism:publicationName': 'Brazilian Journal of Biology', 'prism:issn': '15196984', 'prism:eIssn': '16784375', 'prism:volume': '84', 'prism:pageRange': None, 'prism:coverDate': '2024-01-01', 'prism:coverDisplayDate': '2024', 'prism:doi': '10.1590/1519-6984.253821', 'citedby-count': '0', 'affiliation': [{'@_fa': 'true', 'affilname': 'PMAS-Arid Agriculture University Rawalpindi', 'affiliation-city': 'Rawalpindi', 'affiliation-country': 'Pakistan'}], 'prism:aggregationType': 'Journal', 'subtype': 'ar', 'subtypeDescription': 'Article', 'article-number': 'e253821', 'source-id': '13841', 'openaccess': '1', 'openaccessFlag': True, 'freetoread': {'value': [{'$': 'all'}, {'$': 'publisherfullgold'}]}, 'freetoreadLabel': {'value': [{'$': 'All Open Access'}, {'$': 'Gold'}]}}, {'@_fa': 'true', 'link': [{'@_fa': 'true', '@ref': 'self', '@href': 'https://api.elsevier.com/content/abstract/scopus_id/85128191132'}, {'@_fa': 'true', '@ref': 'author-affiliation', '@href': 'https://api.elsevier.com/content/abstract/scopus_id/85128191132?field=author,affiliation'}, {'@_fa': 'true', '@ref': 'scopus', '@href': 'https://www.scopus.com/inward/record.uri?partnerID=HzOxMe3b&scp=85128191132&origin=inward'}, {'@_fa': 'true', '@ref': 'scopus-citedby', '@href': 'https://www.scopus.com/inward/citedby.uri?partnerID=HzOxMe3b&scp=85128191132&origin=inward'}], 'prism:url': 'https://api.elsevier.com/content/abstract/scopus_id/85128191132', 'dc:identifier': 'SCOPUS_ID:85128191132', 'eid': '2-s2.0-85128191132', 'dc:title': 'The Secondary Use of Electronic Health Records for Data Mining: Data Characteristics and Challenges', 'dc:creator': 'Sarwar T.', 'prism:publicationName': 'ACM Computing Surveys', 'prism:issn': '03600300', 'prism:eIssn': '15577341', 'prism:volume': '55', 'prism:issueIdentifier': '2', 'prism:pageRange': None, 'prism:coverDate': '2023-03-01', 'prism:coverDisplayDate': 'March 2023', 'prism:doi': '10.1145/3490234', 'citedby-count': '0', 'affiliation': [{'@_fa': 'true', 'affilname': 'RMIT University', 'affiliation-city': 'Melbourne', 'affiliation-country': 'Australia'}], 'prism:aggregationType': 'Journal', 'subtype': 're', 'subtypeDescription': 'Review', 'article-number': '3490234', 'source-id': '23038', 'openaccess': '0', 'openaccessFlag': False}, {'@_fa': 'true', 'link': [{'@_fa': 'true', '@ref': 'self', '@href': 'https://api.elsevier.com/content/abstract/scopus_id/85128162451'}, {'@_fa': 'true', '@ref': 'author-affiliation', '@href': 'https://api.elsevier.com/content/abstract/scopus_id/85128162451?field=author,affiliation'}, {'@_fa': 'true', '@ref': 'scopus', '@href': 'https://www.scopus.com/inward/record.uri?partnerID=HzOxMe3b&scp=85128162451&origin=inward'}, {'@_fa': 'true', '@ref': 'scopus-citedby', '@href': 'https://www.scopus.com/inward/citedby.uri?partnerID=HzOxMe3b&scp=85128162451&origin=inward'}], 'prism:url': 'https://api.elsevier.com/content/abstract/scopus_id/85128162451', 'dc:identifier': 'SCOPUS_ID:85128162451', 'eid': '2-s2.0-85128162451', 'dc:title': 'A Survey of Evaluation Metrics Used for NLG Systems', 'dc:creator': 'Sai A.B.', 'prism:publicationName': 'ACM Computing Surveys', 'prism:issn': '03600300', 'prism:eIssn': '15577341', 'prism:volume': '55', 'prism:issueIdentifier': '2', 'prism:pageRange': None, 'prism:coverDate': '2023-03-01', 'prism:coverDisplayDate': 'March 2023', 'prism:doi': '10.1145/3485766', 'citedby-count': '1', 'affiliation': [{'@_fa': 'true', 'affilname': 'Indian Institute of Technology Madras', 'affiliation-city': 'Chennai', 'affiliation-country': 'India'}], 'prism:aggregationType': 'Journal', 'subtype': 're', 'subtypeDescription': 'Review', 'article-number': '3485766', 'source-id': '23038', 'openaccess': '0', 'openaccessFlag': False, 'freetoread': {'value': [{'$': 'all'}, {'$': 'repository'}, {'$': 'repositoryam'}]}, 'freetoreadLabel': {'value': [{'$': 'All Open Access'}, {'$': 'Green'}]}}, {'@_fa': 'true', 'link': [{'@_fa': 'true', '@ref': 'self', '@href': 'https://api.elsevier.com/content/abstract/scopus_id/85127542486'}, {'@_fa': 'true', '@ref': 'author-affiliation', '@href': 'https://api.elsevier.com/content/abstract/scopus_id/85127542486?field=author,affiliation'}, {'@_fa': 'true', '@ref': 'scopus', '@href': 'https://www.scopus.com/inward/record.uri?partnerID=HzOxMe3b&scp=85127542486&origin=inward'}, {'@_fa': 'true', '@ref': 'scopus-citedby', '@href': 'https://www.scopus.com/inward/citedby.uri?partnerID=HzOxMe3b&scp=85127542486&origin=inward'}], 'prism:url': 'https://api.elsevier.com/content/abstract/scopus_id/85127542486', 'dc:identifier': 'SCOPUS_ID:85127542486', 'eid': '2-s2.0-85127542486', 'dc:title': 'Tackling Climate Change with Machine Learning', 'dc:creator': 'Rolnick D.', 'prism:publicationName': 'ACM Computing Surveys', 'prism:issn': '03600300', 'prism:eIssn': '15577341', 'prism:volume': '55', 'prism:issueIdentifier': '2', 'prism:pageRange': None, 'prism:coverDate': '2023-03-01', 'prism:coverDisplayDate': 'March 2023', 'prism:doi': '10.1145/3485128', 'citedby-count': '3', 'affiliation': [{'@_fa': 'true', 'affilname': 'Montreal Institute for Learning Algorithms', 'affiliation-city': 'Montreal', 'affiliation-country': 'Canada'}, {'@_fa': 'true', 'affilname': 'Université McGill', 'affiliation-city': 'Montreal', 'affiliation-country': 'Canada'}], 'prism:aggregationType': 'Journal', 'subtype': 're', 'subtypeDescription': 'Review', 'article-number': '3485128', 'source-id': '23038', 'openaccess': '1', 'openaccessFlag': True, 'freetoread': {'value': [{'$': 'all'}, {'$': 'publisherfree2read'}, {'$': 'repository'}, {'$': 'repositoryam'}]}, 'freetoreadLabel': {'value': [{'$': 'All Open Access'}, {'$': 'Bronze'}, {'$': 'Green'}]}}, {'@_fa': 'true', 'link': [{'@_fa': 'true', '@ref': 'self', '@href': 'https://api.elsevier.com/content/abstract/scopus_id/85126845153'}, {'@_fa': 'true', '@ref': 'author-affiliation', '@href': 'https://api.elsevier.com/content/abstract/scopus_id/85126845153?field=author,affiliation'}, {'@_fa': 'true', '@ref': 'scopus', '@href': 'https://www.scopus.com/inward/record.uri?partnerID=HzOxMe3b&scp=85126845153&origin=inward'}, {'@_fa': 'true', '@ref': 'scopus-citedby', '@href': 'https://www.scopus.com/inward/citedby.uri?partnerID=HzOxMe3b&scp=85126845153&origin=inward'}, {'@_fa': 'true', '@ref': 'full-text', '@href': 'https://api.elsevier.com/content/article/eid/1-s2.0-S1001074222001061'}], 'prism:url': 'https://api.elsevier.com/content/abstract/scopus_id/85126845153', 'dc:identifier': 'SCOPUS_ID:85126845153', 'eid': '2-s2.0-85126845153', 'dc:title': 'Impacts of pollution heterogeneity on population exposure in dense urban areas using ultra-fine resolution air quality data', 'dc:creator': 'Che W.', 'prism:publicationName': 'Journal of Environmental Sciences (China)', 'prism:issn': '10010742', 'prism:eIssn': '18787320', 'prism:volume': '125', 'prism:pageRange': '513-523', 'prism:coverDate': '2023-03-01', 'prism:coverDisplayDate': 'March 2023', 'prism:doi': '10.1016/j.jes.2022.02.041', 'pii': 'S1001074222001061', 'citedby-count': '0', 'affiliation': [{'@_fa': 'true', 'affilname': 'Hong Kong University of Science and Technology', 'affiliation-city': 'Hong Kong', 'affiliation-country': 'Hong Kong'}], 'prism:aggregationType': 'Journal', 'subtype': 'ar', 'subtypeDescription': 'Article', 'source-id': '23393', 'openaccess': '0', 'openaccessFlag': False}, {'@_fa': 'true', 'link': [{'@_fa': 'true', '@ref': 'self', '@href': 'https://api.elsevier.com/content/abstract/scopus_id/85126630802'}, {'@_fa': 'true', '@ref': 'author-affiliation', '@href': 'https://api.elsevier.com/content/abstract/scopus_id/85126630802?field=author,affiliation'}, {'@_fa': 'true', '@ref': 'scopus', '@href': 'https://www.scopus.com/inward/record.uri?partnerID=HzOxMe3b&scp=85126630802&origin=inward'}, {'@_fa': 'true', '@ref': 'scopus-citedby', '@href': 'https://www.scopus.com/inward/citedby.uri?partnerID=HzOxMe3b&scp=85126630802&origin=inward'}], 'prism:url': 'https://api.elsevier.com/content/abstract/scopus_id/85126630802', 'dc:identifier': 'SCOPUS_ID:85126630802', 'eid': '2-s2.0-85126630802', 'dc:title': 'Scarcity of Labels in Non-Stationary Data Streams: A Survey', 'dc:creator': 'Fahy C.', 'prism:publicationName': 'ACM Computing Surveys', 'prism:issn': '03600300', 'prism:eIssn': '15577341', 'prism:volume': '55', 'prism:issueIdentifier': '2', 'prism:pageRange': None, 'prism:coverDate': '2023-03-01', 'prism:coverDisplayDate': 'March 2023', 'prism:doi': '10.1145/3494832', 'citedby-count': '1', 'affiliation': [{'@_fa': 'true', 'affilname': 'De Montfort University', 'affiliation-city': 'Leicester', 'affiliation-country': 'United Kingdom'}], 'prism:aggregationType': 'Journal', 'subtype': 're', 'subtypeDescription': 'Review', 'article-number': '3494832', 'source-id': '23038', 'openaccess': '0', 'openaccessFlag': False, 'freetoread': {'value': [{'$': 'all'}, {'$': 'repository'}, {'$': 'repositoryvor'}]}, 'freetoreadLabel': {'value': [{'$': 'All Open Access'}, {'$': 'Green'}]}}, {'@_fa': 'true', 'link': [{'@_fa': 'true', '@ref': 'self', '@href': 'https://api.elsevier.com/content/abstract/scopus_id/85127602050'}, {'@_fa': 'true', '@ref': 'author-affiliation', '@href': 'https://api.elsevier.com/content/abstract/scopus_id/85127602050?field=author,affiliation'}, {'@_fa': 'true', '@ref': 'scopus', '@href': 'https://www.scopus.com/inward/record.uri?partnerID=HzOxMe3b&scp=85127602050&origin=inward'}, {'@_fa': 'true', '@ref': 'scopus-citedby', '@href': 'https://www.scopus.com/inward/citedby.uri?partnerID=HzOxMe3b&scp=85127602050&origin=inward'}], 'prism:url': 'https://api.elsevier.com/content/abstract/scopus_id/85127602050', 'dc:identifier': 'SCOPUS_ID:85127602050', 'eid': '2-s2.0-85127602050', 'dc:title': 'Assessment of ADME and in silico Characteristics of Natural-Drugs from Turmeric to Evaluate Significant COX2 Inhibition', 'dc:creator': 'Yusuf M.', 'prism:publicationName': 'Biointerface Research in Applied Chemistry', 'prism:eIssn': '20695837', 'prism:volume': '13', 'prism:issueIdentifier': '1', 'prism:pageRange': None, 'prism:coverDate': '2023-02-15', 'prism:coverDisplayDate': '15 February 2023', 'prism:doi': '10.33263/BRIAC131.005', 'citedby-count': '0', 'affiliation': [{'@_fa': 'true', 'affilname': 'Glocal University', 'affiliation-city': 'Saharanpur', 'affiliation-country': 'India'}], 'prism:aggregationType': 'Journal', 'subtype': 'ar', 'subtypeDescription': 'Article', 'article-number': '5', 'source-id': '21100861792', 'openaccess': '1', 'openaccessFlag': True, 'freetoread': {'value': [{'$': 'all'}, {'$': 'publisherfree2read'}]}, 'freetoreadLabel': {'value': [{'$': 'All Open Access'}, {'$': 'Bronze'}]}}, {'@_fa': 'true', 'link': [{'@_fa': 'true', '@ref': 'self', '@href': 'https://api.elsevier.com/content/abstract/scopus_id/85125893163'}, {'@_fa': 'true', '@ref': 'author-affiliation', '@href': 'https://api.elsevier.com/content/abstract/scopus_id/85125893163?field=author,affiliation'}, {'@_fa': 'true', '@ref': 'scopus', '@href': 'https://www.scopus.com/inward/record.uri?partnerID=HzOxMe3b&scp=85125893163&origin=inward'}, {'@_fa': 'true', '@ref': 'scopus-citedby', '@href': 'https://www.scopus.com/inward/citedby.uri?partnerID=HzOxMe3b&scp=85125893163&origin=inward'}, {'@_fa': 'true', '@ref': 'full-text', '@href': 'https://api.elsevier.com/content/article/eid/1-s2.0-S1001074222000468'}], 'prism:url': 'https://api.elsevier.com/content/abstract/scopus_id/85125893163', 'dc:identifier': 'SCOPUS_ID:85125893163', 'eid': '2-s2.0-85125893163', 'dc:title': 'Observation-based sources evolution of non-methane hydrocarbons (NMHCs) in a megacity of China', 'dc:creator': 'Peng Y.', 'prism:publicationName': 'Journal of Environmental Sciences (China)', 'prism:issn': '10010742', 'prism:eIssn': '18787320', 'prism:volume': '124', 'prism:pageRange': '794-805', 'prism:coverDate': '2023-02-01', 'prism:coverDisplayDate': 'February 2023', 'prism:doi': '10.1016/j.jes.2022.01.040', 'pii': 'S1001074222000468', 'citedby-count': '0', 'affiliation': [{'@_fa': 'true', 'affilname': 'Fudan University', 'affiliation-city': 'Shanghai', 'affiliation-country': 'China'}, {'@_fa': 'true', 'affilname': 'Shanghai Academy of Environmental Sciences', 'affiliation-city': 'Shanghai', 'affiliation-country': 'China'}], 'prism:aggregationType': 'Journal', 'subtype': 'ar', 'subtypeDescription': 'Article', 'source-id': '23393', 'openaccess': '1', 'openaccessFlag': True, 'freetoread': {'value': [{'$': 'all'}, {'$': 'publisherfree2read'}]}, 'freetoreadLabel': {'value': [{'$': 'All Open Access'}, {'$': 'Bronze'}]}}, {'@_fa': 'true', 'link': [{'@_fa': 'true', '@ref': 'self', '@href': 'https://api.elsevier.com/content/abstract/scopus_id/85125012399'}, {'@_fa': 'true', '@ref': 'author-affiliation', '@href': 'https://api.elsevier.com/content/abstract/scopus_id/85125012399?field=author,affiliation'}, {'@_fa': 'true', '@ref': 'scopus', '@href': 'https://www.scopus.com/inward/record.uri?partnerID=HzOxMe3b&scp=85125012399&origin=inward'}, {'@_fa': 'true', '@ref': 'scopus-citedby', '@href': 'https://www.scopus.com/inward/citedby.uri?partnerID=HzOxMe3b&scp=85125012399&origin=inward'}, {'@_fa': 'true', '@ref': 'full-text', '@href': 'https://api.elsevier.com/content/article/eid/1-s2.0-S1001074221005167'}], 'prism:url': 'https://api.elsevier.com/content/abstract/scopus_id/85125012399', 'dc:identifier': 'SCOPUS_ID:85125012399', 'eid': '2-s2.0-85125012399', 'dc:title': 'Vehicle emissions of primary air pollutants from 2009 to 2019 and projection for the 14th Five-Year Plan period in Beijing, China', 'dc:creator': 'Wu T.', 'prism:publicationName': 'Journal of Environmental Sciences (China)', 'prism:issn': '10010742', 'prism:eIssn': '18787320', 'prism:volume': '124', 'prism:pageRange': '513-521', 'prism:coverDate': '2023-02-01', 'prism:coverDisplayDate': 'February 2023', 'prism:doi': '10.1016/j.jes.2021.11.038', 'pii': 'S1001074221005167', 'citedby-count': '0', 'affiliation': [{'@_fa': 'true', 'affilname': 'National Engineering Research Center of Urban Environmental Pollution Control', 'affiliation-city': 'Beijing', 'affiliation-country': 'China'}], 'prism:aggregationType': 'Journal', 'subtype': 'ar', 'subtypeDescription': 'Article', 'source-id': '23393', 'openaccess': '1', 'openaccessFlag': True, 'freetoread': {'value': [{'$': 'all'}, {'$': 'publisherfree2read'}]}, 'freetoreadLabel': {'value': [{'$': 'All Open Access'}, {'$': 'Bronze'}]}}, {'@_fa': 'true', 'link': [{'@_fa': 'true', '@ref': 'self', '@href': 'https://api.elsevier.com/content/abstract/scopus_id/85128811440'}, {'@_fa': 'true', '@ref': 'author-affiliation', '@href': 'https://api.elsevier.com/content/abstract/scopus_id/85128811440?field=author,affiliation'}, {'@_fa': 'true', '@ref': 'scopus', '@href': 'https://www.scopus.com/inward/record.uri?partnerID=HzOxMe3b&scp=85128811440&origin=inward'}, {'@_fa': 'true', '@ref': 'scopus-citedby', '@href': 'https://www.scopus.com/inward/citedby.uri?partnerID=HzOxMe3b&scp=85128811440&origin=inward'}], 'prism:url': 'https://api.elsevier.com/content/abstract/scopus_id/85128811440', 'dc:identifier': 'SCOPUS_ID:85128811440', 'eid': '2-s2.0-85128811440', 'dc:title': 'A Hierarchical Visualization Fusion Method for Multi-information of Unconventional Mutation Medical Big Data', 'dc:creator': 'Tang Y.', 'prism:publicationName': 'Journal of Testing and Evaluation', 'prism:issn': '00903973', 'prism:volume': '51', 'prism:issueIdentifier': '1', 'prism:pageRange': None, 'prism:coverDate': '2023-01-01', 'prism:coverDisplayDate': '1 January 2023', 'prism:doi': '10.1520/JTE20210777', 'citedby-count': '0', 'affiliation': [{'@_fa': 'true', 'affilname': 'SEIG', 'affiliation-city': 'Guangzhou', 'affiliation-country': 'China'}], 'prism:aggregationType': 'Journal', 'subtype': 'ar', 'subtypeDescription': 'Article', 'source-id': '21205', 'openaccess': '0', 'openaccessFlag': False}, {'@_fa': 'true', 'link': [{'@_fa': 'true', '@ref': 'self', '@href': 'https://api.elsevier.com/content/abstract/scopus_id/85127755116'}, {'@_fa': 'true', '@ref': 'author-affiliation', '@href': 'https://api.elsevier.com/content/abstract/scopus_id/85127755116?field=author,affiliation'}, {'@_fa': 'true', '@ref': 'scopus', '@href': 'https://www.scopus.com/inward/record.uri?partnerID=HzOxMe3b&scp=85127755116&origin=inward'}, {'@_fa': 'true', '@ref': 'scopus-citedby', '@href': 'https://www.scopus.com/inward/citedby.uri?partnerID=HzOxMe3b&scp=85127755116&origin=inward'}, {'@_fa': 'true', '@ref': 'full-text', '@href': 'https://api.elsevier.com/content/article/eid/1-s2.0-S0920548922000204'}], 'prism:url': 'https://api.elsevier.com/content/abstract/scopus_id/85127755116', 'dc:identifier': 'SCOPUS_ID:85127755116', 'eid': '2-s2.0-85127755116', 'dc:title': 'MDICA: Maintenance of data integrity in column-oriented database applications', 'dc:creator': 'Suárez-Cabal M.J.', 'prism:publicationName': 'Computer Standards and Interfaces', 'prism:issn': '09205489', 'prism:volume': '83', 'prism:pageRange': None, 'prism:coverDate': '2023-01-01', 'prism:coverDisplayDate': 'January 2023', 'prism:doi': '10.1016/j.csi.2022.103642', 'pii': 'S0920548922000204', 'citedby-count': '0', 'affiliation': [{'@_fa': 'true', 'affilname': 'Universidad de Oviedo', 'affiliation-city': 'Oviedo', 'affiliation-country': 'Spain'}], 'prism:aggregationType': 'Journal', 'subtype': 'ar', 'subtypeDescription': 'Article', 'article-number': '103642', 'source-id': '24303', 'openaccess': '1', 'openaccessFlag': True, 'freetoread': {'value': [{'$': 'all'}, {'$': 'publisherhybridgold'}]}, 'freetoreadLabel': {'value': [{'$': 'All Open Access'}, {'$': 'Hybrid Gold'}]}}, {'@_fa': 'true', 'link': [{'@_fa': 'true', '@ref': 'self', '@href': 'https://api.elsevier.com/content/abstract/scopus_id/85125381517'}, {'@_fa': 'true', '@ref': 'author-affiliation', '@href': 'https://api.elsevier.com/content/abstract/scopus_id/85125381517?field=author,affiliation'}, {'@_fa': 'true', '@ref': 'scopus', '@href': 'https://www.scopus.com/inward/record.uri?partnerID=HzOxMe3b&scp=85125381517&origin=inward'}, {'@_fa': 'true', '@ref': 'scopus-citedby', '@href': 'https://www.scopus.com/inward/citedby.uri?partnerID=HzOxMe3b&scp=85125381517&origin=inward'}], 'prism:url': 'https://api.elsevier.com/content/abstract/scopus_id/85125381517', 'dc:identifier': 'SCOPUS_ID:85125381517', 'eid': '2-s2.0-85125381517', 'dc:title': 'An Optimization Algorithm of Overseas Surgical Warehouse Location of Cross-Border Medical Supply Chain Network Based on Parallel Big Data Mining', 'dc:creator': 'Ma Z.', 'prism:publicationName': 'Journal of Testing and Evaluation', 'prism:issn': '00903973', 'prism:volume': '51', 'prism:issueIdentifier': '1', 'prism:pageRange': None, 'prism:coverDate': '2023-01-01', 'prism:coverDisplayDate': '1 January 2023', 'prism:doi': '10.1520/JTE20210449', 'citedby-count': '0', 'affiliation': [{'@_fa': 'true', 'affilname': 'Zhengzhou University', 'affiliation-city': 'Zhengzhou', 'affiliation-country': 'China'}], 'prism:aggregationType': 'Journal', 'subtype': 'ar', 'subtypeDescription': 'Article', 'article-number': 'JTE20210449', 'source-id': '21205', 'openaccess': '0', 'openaccessFlag': False}, {'@_fa': 'true', 'link': [{'@_fa': 'true', '@ref': 'self', '@href': 'https://api.elsevier.com/content/abstract/scopus_id/85124084268'}, {'@_fa': 'true', '@ref': 'author-affiliation', '@href': 'https://api.elsevier.com/content/abstract/scopus_id/85124084268?field=author,affiliation'}, {'@_fa': 'true', '@ref': 'scopus', '@href': 'https://www.scopus.com/inward/record.uri?partnerID=HzOxMe3b&scp=85124084268&origin=inward'}, {'@_fa': 'true', '@ref': 'scopus-citedby', '@href': 'https://www.scopus.com/inward/citedby.uri?partnerID=HzOxMe3b&scp=85124084268&origin=inward'}], 'prism:url': 'https://api.elsevier.com/content/abstract/scopus_id/85124084268', 'dc:identifier': 'SCOPUS_ID:85124084268', 'eid': '2-s2.0-85124084268', 'dc:title': 'Prediction of Milk Protein Content in Milk for Health Hygiene Based on Hyperspectral and Convolutional Neural Network', 'dc:creator': 'Liu J.', 'prism:publicationName': 'Journal of Testing and Evaluation', 'prism:issn': '00903973', 'prism:volume': '51', 'prism:issueIdentifier': '1', 'prism:pageRange': None, 'prism:coverDate': '2023-01-01', 'prism:coverDisplayDate': '1 January 2023', 'prism:doi': '10.1520/JTE20210453', 'citedby-count': '0', 'affiliation': [{'@_fa': 'true', 'affilname': 'Neimenggu Agricultural University', 'affiliation-city': 'Hohhot', 'affiliation-country': 'China'}, {'@_fa': 'true', 'affilname': 'Inner Mongolia Autonomous Region Key Laboratory of Big Data Research and Application of Agriculture and Animal Husbandry', 'affiliation-city': 'Hohhot', 'affiliation-country': 'China'}], 'prism:aggregationType': 'Journal', 'subtype': 'ar', 'subtypeDescription': 'Article', 'source-id': '21205', 'openaccess': '0', 'openaccessFlag': False}, {'@_fa': 'true', 'link': [{'@_fa': 'true', '@ref': 'self', '@href': 'https://api.elsevier.com/content/abstract/scopus_id/85124037303'}, {'@_fa': 'true', '@ref': 'author-affiliation', '@href': 'https://api.elsevier.com/content/abstract/scopus_id/85124037303?field=author,affiliation'}, {'@_fa': 'true', '@ref': 'scopus', '@href': 'https://www.scopus.com/inward/record.uri?partnerID=HzOxMe3b&scp=85124037303&origin=inward'}, {'@_fa': 'true', '@ref': 'scopus-citedby', '@href': 'https://www.scopus.com/inward/citedby.uri?partnerID=HzOxMe3b&scp=85124037303&origin=inward'}], 'prism:url': 'https://api.elsevier.com/content/abstract/scopus_id/85124037303', 'dc:identifier': 'SCOPUS_ID:85124037303', 'eid': '2-s2.0-85124037303', 'dc:title': 'Monitoring pond water quality to improve the production of Labeo rohita (Hamilton, 1822) in Bannu Fish Hatchery of Bannu district, Khyber Pakhtunkhwa province; An Implications for artificial fish culture', 'dc:creator': 'Masood Z.', 'prism:publicationName': 'Brazilian Journal of Biology', 'prism:issn': '15196984', 'prism:eIssn': '16784375', 'prism:volume': '83', 'prism:pageRange': None, 'prism:coverDate': '2023-01-01', 'prism:coverDisplayDate': '2023', 'prism:doi': '10.1590/1519-6984.245197', 'citedby-count': '0', 'affiliation': [{'@_fa': 'true', 'affilname': \"Sardar Bahadur Khan Women's University\", 'affiliation-city': 'Quetta', 'affiliation-country': 'Pakistan'}], 'pubmed-id': '35137837', 'prism:aggregationType': 'Journal', 'subtype': 'ar', 'subtypeDescription': 'Article', 'article-number': 'e245197', 'source-id': '13841', 'openaccess': '1', 'openaccessFlag': True, 'freetoread': {'value': [{'$': 'all'}, {'$': 'publisherfullgold'}]}, 'freetoreadLabel': {'value': [{'$': 'All Open Access'}, {'$': 'Gold'}]}}, {'@_fa': 'true', 'link': [{'@_fa': 'true', '@ref': 'self', '@href': 'https://api.elsevier.com/content/abstract/scopus_id/85125197160'}, {'@_fa': 'true', '@ref': 'author-affiliation', '@href': 'https://api.elsevier.com/content/abstract/scopus_id/85125197160?field=author,affiliation'}, {'@_fa': 'true', '@ref': 'scopus', '@href': 'https://www.scopus.com/inward/record.uri?partnerID=HzOxMe3b&scp=85125197160&origin=inward'}, {'@_fa': 'true', '@ref': 'scopus-citedby', '@href': 'https://www.scopus.com/inward/citedby.uri?partnerID=HzOxMe3b&scp=85125197160&origin=inward'}], 'prism:url': 'https://api.elsevier.com/content/abstract/scopus_id/85125197160', 'dc:identifier': 'SCOPUS_ID:85125197160', 'eid': '2-s2.0-85125197160', 'dc:title': 'Quantification of Soil Erosion by Integrating Geospatial and Revised Universal Soil Loss Equation in District Dir Lower, Pakistan', 'dc:creator': 'Khan A.', 'prism:publicationName': 'Proceedings of the Pakistan Academy of Sciences: Part B', 'prism:issn': '25184261', 'prism:eIssn': '2518427X', 'prism:volume': '58', 'prism:issueIdentifier': '4', 'prism:pageRange': '17-28', 'prism:coverDate': '2022-12-31', 'prism:coverDisplayDate': '31 December 2022', 'prism:doi': '10.53560/PPASB(58-4)678', 'citedby-count': '0', 'affiliation': [{'@_fa': 'true', 'affilname': 'University of Peshawar', 'affiliation-city': 'Peshawar', 'affiliation-country': 'Pakistan'}], 'prism:aggregationType': 'Journal', 'subtype': 'ar', 'subtypeDescription': 'Article', 'source-id': '21100902947', 'openaccess': '0', 'openaccessFlag': False}, {'@_fa': 'true', 'link': [{'@_fa': 'true', '@ref': 'self', '@href': 'https://api.elsevier.com/content/abstract/scopus_id/85128970494'}, {'@_fa': 'true', '@ref': 'author-affiliation', '@href': 'https://api.elsevier.com/content/abstract/scopus_id/85128970494?field=author,affiliation'}, {'@_fa': 'true', '@ref': 'scopus', '@href': 'https://www.scopus.com/inward/record.uri?partnerID=HzOxMe3b&scp=85128970494&origin=inward'}, {'@_fa': 'true', '@ref': 'scopus-citedby', '@href': 'https://www.scopus.com/inward/citedby.uri?partnerID=HzOxMe3b&scp=85128970494&origin=inward'}], 'prism:url': 'https://api.elsevier.com/content/abstract/scopus_id/85128970494', 'dc:identifier': 'SCOPUS_ID:85128970494', 'eid': '2-s2.0-85128970494', 'dc:title': 'Blockchain in accounting practice and research: systematic literature review', 'dc:creator': 'Bellucci M.', 'prism:publicationName': 'Meditari Accountancy Research', 'prism:issn': '2049372X', 'prism:eIssn': '20493738', 'prism:volume': '30', 'prism:issueIdentifier': '7', 'prism:pageRange': '121-146', 'prism:coverDate': '2022-12-19', 'prism:coverDisplayDate': '19 December 2022', 'prism:doi': '10.1108/MEDAR-10-2021-1477', 'citedby-count': '0', 'affiliation': [{'@_fa': 'true', 'affilname': 'Università degli Studi di Firenze', 'affiliation-city': 'Florence', 'affiliation-country': 'Italy'}], 'prism:aggregationType': 'Journal', 'subtype': 're', 'subtypeDescription': 'Review', 'source-id': '21100446969', 'openaccess': '1', 'openaccessFlag': True, 'freetoread': {'value': [{'$': 'all'}, {'$': 'publisherhybridgold'}, {'$': 'repository'}, {'$': 'repositoryam'}]}, 'freetoreadLabel': {'value': [{'$': 'All Open Access'}, {'$': 'Hybrid Gold'}, {'$': 'Green'}]}}, {'@_fa': 'true', 'link': [{'@_fa': 'true', '@ref': 'self', '@href': 'https://api.elsevier.com/content/abstract/scopus_id/85128925904'}, {'@_fa': 'true', '@ref': 'author-affiliation', '@href': 'https://api.elsevier.com/content/abstract/scopus_id/85128925904?field=author,affiliation'}, {'@_fa': 'true', '@ref': 'scopus', '@href': 'https://www.scopus.com/inward/record.uri?partnerID=HzOxMe3b&scp=85128925904&origin=inward'}, {'@_fa': 'true', '@ref': 'scopus-citedby', '@href': 'https://www.scopus.com/inward/citedby.uri?partnerID=HzOxMe3b&scp=85128925904&origin=inward'}], 'prism:url': 'https://api.elsevier.com/content/abstract/scopus_id/85128925904', 'dc:identifier': 'SCOPUS_ID:85128925904', 'eid': '2-s2.0-85128925904', 'dc:title': 'Stakeholder interactions as sources for organisational learning: insights from the water sector', 'dc:creator': 'Giacomini D.', 'prism:publicationName': 'Meditari Accountancy Research', 'prism:issn': '2049372X', 'prism:eIssn': '20493738', 'prism:volume': '30', 'prism:issueIdentifier': '7', 'prism:pageRange': '1-25', 'prism:coverDate': '2022-12-19', 'prism:coverDisplayDate': '19 December 2022', 'prism:doi': '10.1108/MEDAR-11-2020-1066', 'citedby-count': '0', 'affiliation': [{'@_fa': 'true', 'affilname': 'Università degli Studi di Brescia', 'affiliation-city': 'Brescia', 'affiliation-country': 'Italy'}], 'prism:aggregationType': 'Journal', 'subtype': 'ar', 'subtypeDescription': 'Article', 'source-id': '21100446969', 'openaccess': '1', 'openaccessFlag': True, 'freetoread': {'value': [{'$': 'all'}, {'$': 'publisherhybridgold'}]}, 'freetoreadLabel': {'value': [{'$': 'All Open Access'}, {'$': 'Hybrid Gold'}]}}, {'@_fa': 'true', 'link': [{'@_fa': 'true', '@ref': 'self', '@href': 'https://api.elsevier.com/content/abstract/scopus_id/85128355757'}, {'@_fa': 'true', '@ref': 'author-affiliation', '@href': 'https://api.elsevier.com/content/abstract/scopus_id/85128355757?field=author,affiliation'}, {'@_fa': 'true', '@ref': 'scopus', '@href': 'https://www.scopus.com/inward/record.uri?partnerID=HzOxMe3b&scp=85128355757&origin=inward'}, {'@_fa': 'true', '@ref': 'scopus-citedby', '@href': 'https://www.scopus.com/inward/citedby.uri?partnerID=HzOxMe3b&scp=85128355757&origin=inward'}], 'prism:url': 'https://api.elsevier.com/content/abstract/scopus_id/85128355757', 'dc:identifier': 'SCOPUS_ID:85128355757', 'eid': '2-s2.0-85128355757', 'dc:title': 'Exploring the nature and culture of science as an academic discipline: implications for the integration of education for sustainable development', 'dc:creator': 'Hogan D.', 'prism:publicationName': 'International Journal of Sustainability in Higher Education', 'prism:issn': '14676370', 'prism:volume': '23', 'prism:issueIdentifier': '8', 'prism:pageRange': '120-147', 'prism:coverDate': '2022-12-19', 'prism:coverDisplayDate': '19 December 2022', 'prism:doi': '10.1108/IJSHE-06-2021-0236', 'citedby-count': '0', 'affiliation': [{'@_fa': 'true', 'affilname': 'University of Limerick', 'affiliation-city': 'Limerick', 'affiliation-country': 'Ireland'}], 'prism:aggregationType': 'Journal', 'subtype': 'ar', 'subtypeDescription': 'Article', 'source-id': '144819', 'openaccess': '0', 'openaccessFlag': False, 'freetoread': {'value': [{'$': 'all'}, {'$': 'repository'}, {'$': 'repositoryam'}]}, 'freetoreadLabel': {'value': [{'$': 'All Open Access'}, {'$': 'Green'}]}}, {'@_fa': 'true', 'link': [{'@_fa': 'true', '@ref': 'self', '@href': 'https://api.elsevier.com/content/abstract/scopus_id/85127831492'}, {'@_fa': 'true', '@ref': 'author-affiliation', '@href': 'https://api.elsevier.com/content/abstract/scopus_id/85127831492?field=author,affiliation'}, {'@_fa': 'true', '@ref': 'scopus', '@href': 'https://www.scopus.com/inward/record.uri?partnerID=HzOxMe3b&scp=85127831492&origin=inward'}, {'@_fa': 'true', '@ref': 'scopus-citedby', '@href': 'https://www.scopus.com/inward/citedby.uri?partnerID=HzOxMe3b&scp=85127831492&origin=inward'}], 'prism:url': 'https://api.elsevier.com/content/abstract/scopus_id/85127831492', 'dc:identifier': 'SCOPUS_ID:85127831492', 'eid': '2-s2.0-85127831492', 'dc:title': 'Customer ecosystems: exploring how ecosystem actors shape customer experience', 'dc:creator': 'Lipkin M.', 'prism:publicationName': 'Journal of Services Marketing', 'prism:issn': '08876045', 'prism:volume': '36', 'prism:issueIdentifier': '9', 'prism:pageRange': '1-17', 'prism:coverDate': '2022-12-19', 'prism:coverDisplayDate': '19 December 2022', 'prism:doi': '10.1108/JSM-03-2021-0080', 'citedby-count': '0', 'affiliation': [{'@_fa': 'true', 'affilname': 'Hanken School of Economics', 'affiliation-city': 'Helsinki', 'affiliation-country': 'Finland'}], 'prism:aggregationType': 'Journal', 'subtype': 'ar', 'subtypeDescription': 'Article', 'source-id': '130049', 'openaccess': '1', 'openaccessFlag': True, 'freetoread': {'value': [{'$': 'all'}, {'$': 'publisherhybridgold'}]}, 'freetoreadLabel': {'value': [{'$': 'All Open Access'}, {'$': 'Hybrid Gold'}]}}, {'@_fa': 'true', 'link': [{'@_fa': 'true', '@ref': 'self', '@href': 'https://api.elsevier.com/content/abstract/scopus_id/85122670763'}, {'@_fa': 'true', '@ref': 'author-affiliation', '@href': 'https://api.elsevier.com/content/abstract/scopus_id/85122670763?field=author,affiliation'}, {'@_fa': 'true', '@ref': 'scopus', '@href': 'https://www.scopus.com/inward/record.uri?partnerID=HzOxMe3b&scp=85122670763&origin=inward'}, {'@_fa': 'true', '@ref': 'scopus-citedby', '@href': 'https://www.scopus.com/inward/citedby.uri?partnerID=HzOxMe3b&scp=85122670763&origin=inward'}], 'prism:url': 'https://api.elsevier.com/content/abstract/scopus_id/85122670763', 'dc:identifier': 'SCOPUS_ID:85122670763', 'eid': '2-s2.0-85122670763', 'dc:title': 'CRM system implementation and firm performance: the role of consultant facilitation and user involvement', 'dc:creator': 'Suoniemi S.', 'prism:publicationName': 'Journal of Business and Industrial Marketing', 'prism:issn': '08858624', 'prism:volume': '37', 'prism:issueIdentifier': '13', 'prism:pageRange': '19-32', 'prism:coverDate': '2022-12-19', 'prism:coverDisplayDate': '19 December 2022', 'prism:doi': '10.1108/JBIM-08-2021-0380', 'citedby-count': '0', 'affiliation': [{'@_fa': 'true', 'affilname': 'Turun Kauppakorkeakoulu', 'affiliation-city': 'Turku', 'affiliation-country': 'Finland'}], 'prism:aggregationType': 'Journal', 'subtype': 'ar', 'subtypeDescription': 'Article', 'source-id': '22893', 'openaccess': '1', 'openaccessFlag': True, 'freetoread': {'value': [{'$': 'all'}, {'$': 'publisherhybridgold'}]}, 'freetoreadLabel': {'value': [{'$': 'All Open Access'}, {'$': 'Hybrid Gold'}]}}, {'@_fa': 'true', 'link': [{'@_fa': 'true', '@ref': 'self', '@href': 'https://api.elsevier.com/content/abstract/scopus_id/85122216215'}, {'@_fa': 'true', '@ref': 'author-affiliation', '@href': 'https://api.elsevier.com/content/abstract/scopus_id/85122216215?field=author,affiliation'}, {'@_fa': 'true', '@ref': 'scopus', '@href': 'https://www.scopus.com/inward/record.uri?partnerID=HzOxMe3b&scp=85122216215&origin=inward'}, {'@_fa': 'true', '@ref': 'scopus-citedby', '@href': 'https://www.scopus.com/inward/citedby.uri?partnerID=HzOxMe3b&scp=85122216215&origin=inward'}], 'prism:url': 'https://api.elsevier.com/content/abstract/scopus_id/85122216215', 'dc:identifier': 'SCOPUS_ID:85122216215', 'eid': '2-s2.0-85122216215', 'dc:title': 'A study of the Web visibility of the SDGs and the 2030 Agenda on university websites', 'dc:creator': 'Vallez M.', 'prism:publicationName': 'International Journal of Sustainability in Higher Education', 'prism:issn': '14676370', 'prism:volume': '23', 'prism:issueIdentifier': '8', 'prism:pageRange': '41-59', 'prism:coverDate': '2022-12-19', 'prism:coverDisplayDate': '19 December 2022', 'prism:doi': '10.1108/IJSHE-09-2021-0361', 'citedby-count': '0', 'affiliation': [{'@_fa': 'true', 'affilname': 'Universitat de Barcelona', 'affiliation-city': 'Barcelona', 'affiliation-country': 'Spain'}], 'prism:aggregationType': 'Journal', 'subtype': 'ar', 'subtypeDescription': 'Article', 'source-id': '144819', 'openaccess': '1', 'openaccessFlag': True, 'freetoread': {'value': [{'$': 'all'}, {'$': 'publisherhybridgold'}, {'$': 'repository'}, {'$': 'repositoryvor'}, {'$': 'repositoryam'}]}, 'freetoreadLabel': {'value': [{'$': 'All Open Access'}, {'$': 'Hybrid Gold'}, {'$': 'Green'}]}}, {'@_fa': 'true', 'link': [{'@_fa': 'true', '@ref': 'self', '@href': 'https://api.elsevier.com/content/abstract/scopus_id/85112575431'}, {'@_fa': 'true', '@ref': 'author-affiliation', '@href': 'https://api.elsevier.com/content/abstract/scopus_id/85112575431?field=author,affiliation'}, {'@_fa': 'true', '@ref': 'scopus', '@href': 'https://www.scopus.com/inward/record.uri?partnerID=HzOxMe3b&scp=85112575431&origin=inward'}, {'@_fa': 'true', '@ref': 'scopus-citedby', '@href': 'https://www.scopus.com/inward/citedby.uri?partnerID=HzOxMe3b&scp=85112575431&origin=inward'}], 'prism:url': 'https://api.elsevier.com/content/abstract/scopus_id/85112575431', 'dc:identifier': 'SCOPUS_ID:85112575431', 'eid': '2-s2.0-85112575431', 'dc:title': 'Corporate social responsibility, green innovation and competitiveness – causality in manufacturing', 'dc:creator': 'Padilla-Lozano C.P.', 'prism:publicationName': 'Competitiveness Review', 'prism:issn': '10595422', 'prism:eIssn': '20513143', 'prism:volume': '32', 'prism:issueIdentifier': '7', 'prism:pageRange': '21-39', 'prism:coverDate': '2022-12-19', 'prism:coverDisplayDate': '19 December 2022', 'prism:doi': '10.1108/CR-12-2020-0160', 'citedby-count': '2', 'affiliation': [{'@_fa': 'true', 'affilname': 'Universidad Catolica de Santiago de Guayaquil', 'affiliation-city': 'Guayaquil', 'affiliation-country': 'Ecuador'}], 'prism:aggregationType': 'Journal', 'subtype': 'ar', 'subtypeDescription': 'Article', 'source-id': '5700185098', 'openaccess': '1', 'openaccessFlag': True, 'freetoread': {'value': [{'$': 'all'}, {'$': 'publisherhybridgold'}]}, 'freetoreadLabel': {'value': [{'$': 'All Open Access'}, {'$': 'Hybrid Gold'}]}}, {'@_fa': 'true', 'link': [{'@_fa': 'true', '@ref': 'self', '@href': 'https://api.elsevier.com/content/abstract/scopus_id/85111358531'}, {'@_fa': 'true', '@ref': 'author-affiliation', '@href': 'https://api.elsevier.com/content/abstract/scopus_id/85111358531?field=author,affiliation'}, {'@_fa': 'true', '@ref': 'scopus', '@href': 'https://www.scopus.com/inward/record.uri?partnerID=HzOxMe3b&scp=85111358531&origin=inward'}, {'@_fa': 'true', '@ref': 'scopus-citedby', '@href': 'https://www.scopus.com/inward/citedby.uri?partnerID=HzOxMe3b&scp=85111358531&origin=inward'}], 'prism:url': 'https://api.elsevier.com/content/abstract/scopus_id/85111358531', 'dc:identifier': 'SCOPUS_ID:85111358531', 'eid': '2-s2.0-85111358531', 'dc:title': 'What’s not to like about evidence-based management: a hyper-rational fad?', 'dc:creator': 'Hulpke J.F.', 'prism:publicationName': 'International Journal of Organizational Analysis', 'prism:issn': '19348835', 'prism:volume': '30', 'prism:issueIdentifier': '7', 'prism:pageRange': '95-123', 'prism:coverDate': '2022-12-19', 'prism:coverDisplayDate': '19 December 2022', 'prism:doi': '10.1108/IJOA-06-2020-2278', 'citedby-count': '0', 'affiliation': [{'@_fa': 'true', 'affilname': 'University College Dublin Singapore Office', 'affiliation-city': 'Singapore City', 'affiliation-country': 'Singapore'}], 'prism:aggregationType': 'Journal', 'subtype': 'ar', 'subtypeDescription': 'Article', 'source-id': '10400153306', 'openaccess': '0', 'openaccessFlag': False}, {'@_fa': 'true', 'link': [{'@_fa': 'true', '@ref': 'self', '@href': 'https://api.elsevier.com/content/abstract/scopus_id/85129759888'}, {'@_fa': 'true', '@ref': 'author-affiliation', '@href': 'https://api.elsevier.com/content/abstract/scopus_id/85129759888?field=author,affiliation'}, {'@_fa': 'true', '@ref': 'scopus', '@href': 'https://www.scopus.com/inward/record.uri?partnerID=HzOxMe3b&scp=85129759888&origin=inward'}, {'@_fa': 'true', '@ref': 'scopus-citedby', '@href': 'https://www.scopus.com/inward/citedby.uri?partnerID=HzOxMe3b&scp=85129759888&origin=inward'}], 'prism:url': 'https://api.elsevier.com/content/abstract/scopus_id/85129759888', 'dc:identifier': 'SCOPUS_ID:85129759888', 'eid': '2-s2.0-85129759888', 'dc:title': 'Split BiRNN for real-time activity recognition using radar and deep learning', 'dc:creator': 'Werthen-Brabants L.', 'prism:publicationName': 'Scientific Reports', 'prism:eIssn': '20452322', 'prism:volume': '12', 'prism:issueIdentifier': '1', 'prism:pageRange': None, 'prism:coverDate': '2022-12-01', 'prism:coverDisplayDate': 'December 2022', 'prism:doi': '10.1038/s41598-022-08240-x', 'citedby-count': '0', 'affiliation': [{'@_fa': 'true', 'affilname': 'Universiteit Gent', 'affiliation-city': 'Ghent', 'affiliation-country': 'Belgium'}], 'prism:aggregationType': 'Journal', 'subtype': 'ar', 'subtypeDescription': 'Article', 'article-number': '7436', 'source-id': '21100200805', 'openaccess': '1', 'openaccessFlag': True, 'freetoread': {'value': [{'$': 'all'}, {'$': 'publisherfullgold'}, {'$': 'repository'}, {'$': 'repositoryvor'}]}, 'freetoreadLabel': {'value': [{'$': 'All Open Access'}, {'$': 'Gold'}, {'$': 'Green'}]}}, {'@_fa': 'true', 'link': [{'@_fa': 'true', '@ref': 'self', '@href': 'https://api.elsevier.com/content/abstract/scopus_id/85129757216'}, {'@_fa': 'true', '@ref': 'author-affiliation', '@href': 'https://api.elsevier.com/content/abstract/scopus_id/85129757216?field=author,affiliation'}, {'@_fa': 'true', '@ref': 'scopus', '@href': 'https://www.scopus.com/inward/record.uri?partnerID=HzOxMe3b&scp=85129757216&origin=inward'}, {'@_fa': 'true', '@ref': 'scopus-citedby', '@href': 'https://www.scopus.com/inward/citedby.uri?partnerID=HzOxMe3b&scp=85129757216&origin=inward'}], 'prism:url': 'https://api.elsevier.com/content/abstract/scopus_id/85129757216', 'dc:identifier': 'SCOPUS_ID:85129757216', 'eid': '2-s2.0-85129757216', 'dc:title': 'Potential benefits and limitations of machine learning in the field of eating disorders: current research and future directions', 'dc:creator': 'Fardouly J.', 'prism:publicationName': 'Journal of Eating Disorders', 'prism:eIssn': '20502974', 'prism:volume': '10', 'prism:issueIdentifier': '1', 'prism:pageRange': None, 'prism:coverDate': '2022-12-01', 'prism:coverDisplayDate': 'December 2022', 'prism:doi': '10.1186/s40337-022-00581-2', 'citedby-count': '0', 'affiliation': [{'@_fa': 'true', 'affilname': 'UNSW Sydney', 'affiliation-city': 'Sydney', 'affiliation-country': 'Australia'}], 'prism:aggregationType': 'Journal', 'subtype': 're', 'subtypeDescription': 'Review', 'article-number': '66', 'source-id': '21100329539', 'openaccess': '1', 'openaccessFlag': True, 'freetoread': {'value': [{'$': 'all'}, {'$': 'publisherfullgold'}, {'$': 'repository'}, {'$': 'repositoryvor'}]}, 'freetoreadLabel': {'value': [{'$': 'All Open Access'}, {'$': 'Gold'}, {'$': 'Green'}]}}]})])"
      ]
     },
     "execution_count": 15,
     "metadata": {},
     "output_type": "execute_result"
    }
   ],
   "source": [
    "\n",
    "url = 'https://ieeexploreapi.ieee.org/api/v1/search/articles?apikey=zcw5heuva2mrz4an52gf32y6&querytext='+config_file['API_STRING']\n",
    "url_scopus = 'http://api.elsevier.com/content/search/scopus?query='+config_file['API_STRING']+'&apiKey=dd43a9e67059d268b0a6eaf9f3d73cd4'\n",
    "##var_union = []\n",
    "\n",
    "resposta_hoteis = requests.request('GET', url)\n",
    "resposta_scopus = requests.request('GET', url_scopus)\n",
    "var_teste = resposta_hoteis.json()\n",
    "var_teste_scopus = resposta_scopus.json()\n",
    "var_teste.items()\n",
    "var_teste_scopus.items()\n"
   ]
  }
 ],
 "metadata": {
  "interpreter": {
   "hash": "062db9f32d067a764e336811396ef743738190d7b718f0c555aff8eb189043f8"
  },
  "kernelspec": {
   "display_name": "Python 3.10.4 64-bit (windows store)",
   "language": "python",
   "name": "python3"
  },
  "language_info": {
   "codemirror_mode": {
    "name": "ipython",
    "version": 3
   },
   "file_extension": ".py",
   "mimetype": "text/x-python",
   "name": "python",
   "nbconvert_exporter": "python",
   "pygments_lexer": "ipython3",
   "version": "3.10.4"
  },
  "orig_nbformat": 4
 },
 "nbformat": 4,
 "nbformat_minor": 2
}
