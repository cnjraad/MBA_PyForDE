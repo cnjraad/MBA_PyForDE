{
 "cells": [
  {
   "cell_type": "code",
   "execution_count": 177,
   "metadata": {},
   "outputs": [],
   "source": [
    "import bibtexparser as bp\n",
    "import pandas as pd\n",
    "import yaml as yml\n",
    "\n",
    "# CARREGA O ARQUIVO DE CONFIGURAÇÃO\n",
    "dirConfig = r'D:\\Impacta\\Python for Data Engineer\\Aula 2\\Arquivos'\n",
    "configFileName = 'config_analisa_bibtex.yml'\n",
    "\n",
    "with open(dirConfig + '\\\\' + configFileName) as f:\n",
    "    configFile = yml.load(f, Loader=yml.loader.SafeLoader)\n"
   ]
  },
  {
   "cell_type": "code",
   "execution_count": 178,
   "metadata": {},
   "outputs": [],
   "source": [
    "# ANALISA BIBTEX\n",
    "\n",
    "def funcAnalisaBibtex(FILE_ACM, FILE_IEE, FILE_SD, FORMATO):\n",
    "\n",
    "\tacmFile = FILE_ACM\n",
    "\tieeeFile = FILE_IEE\n",
    "\tsdFile = FILE_SD\n",
    "\tformatFile = FORMATO\n",
    "\t\n",
    "\tdirInput = r'D:\\Impacta\\Python for Data Engineer\\Aula 2\\Arquivos\\input'\n",
    "\tdirOutput = r'D:\\Impacta\\Python for Data Engineer\\Aula 2\\Arquivos\\output'\n",
    "\n",
    "\tmergedFilesCSV = 'ALL_ARTICLES.csv'\n",
    "\tmergedFilesJSON = 'ALL_ARTICLES.json'\n",
    "\tmergedFilesYAML = 'ALL_ARTICLES.yml'\n",
    "\t\n",
    "\twith open(dirInput + '\\\\' + acmFile, encoding='utf8') as acmf, \\\n",
    "\t     open(dirInput + '\\\\' + ieeeFile, encoding='utf8') as ieeef, \\\n",
    "\t\t open(dirInput + '\\\\' + sdFile, encoding='utf8') as sdf:\n",
    "\t\n",
    "\t\tbib_database_acm = bp.load(acmf)\n",
    "\t\tbib_database_iee = bp.load(ieeef)\n",
    "\t\tbib_database_sd  = bp.load(sdf)\n",
    "\t\n",
    "\tdfAcm  = pd.DataFrame(bib_database_acm.entries_dict.values()) \n",
    "\tdfIEEE = pd.DataFrame(bib_database_iee.entries_dict.values()) \n",
    "\tdfSD   = pd.DataFrame(bib_database_sd.entries_dict.values()) \n",
    "\t\n",
    "\t# COMPARA COLUNAS\n",
    "\tsetAcm, setIEEE, setSD = set(dfAcm.columns), set(dfIEEE.columns), set(dfSD.columns)\n",
    "\tselColunas = setAcm.intersection(setIEEE,setSD)\n",
    "\t\n",
    "\t# UNION DFs\n",
    "\tdfUnion = pd.concat([dfAcm.get(selColunas), dfIEEE.get(selColunas), dfSD.get(selColunas)])\n",
    "\t\n",
    "\t# EXPORT\n",
    "\tif formatFile == 'CSV':\n",
    "\t\tdfUnion.to_csv(dirOutput + '\\\\' + mergedFilesCSV, index=False, encoding='utf-8')\n",
    "\telif formatFile == 'JSON':\n",
    "\t\tdfUnion.to_json(dirOutput + '\\\\' + mergedFilesJSON, orient = 'records')\n",
    "\telif formatFile == 'YAML':\t\n",
    "\t\tymlFileACM = yml.dump(list(bib_database_acm.entries_dict.values()))\n",
    "\t\tymlFileIEEE = yml.dump(list(bib_database_iee.entries_dict.values()))\n",
    "\t\tymlFileACM = yml.dump(list(bib_database_sd.entries_dict.values()))\n",
    "\n",
    "\t\tymlUnion = ymlFileACM + ymlFileIEEE + ymlFileACM\n",
    "\t\tymlUnion\n",
    "\n",
    "\t\twith open(dirOutput + '\\\\' + mergedFilesYAML, mode='w',encoding='utf8') as f:\n",
    "\t\t\tf.write(ymlUnion)\n",
    "\telse:\n",
    "\t\tprint('Formato não disponivel.')"
   ]
  },
  {
   "cell_type": "code",
   "execution_count": 179,
   "metadata": {},
   "outputs": [],
   "source": [
    "funcAnalisaBibtex(\\\n",
    "\tconfigFile['FILE_ACM'], \\\n",
    "\tconfigFile['FILE_IEE'], \\\n",
    "\tconfigFile['FILE_SD' ], \\\n",
    "\tconfigFile['FORMATO' ]\n",
    "\t)"
   ]
  }
 ],
 "metadata": {
  "interpreter": {
   "hash": "e85b0ff447d6ac887c9b29f0b65166963838341132469e7605d92aedcbed6513"
  },
  "kernelspec": {
   "display_name": "Python 3.9.7 ('base')",
   "language": "python",
   "name": "python3"
  },
  "language_info": {
   "codemirror_mode": {
    "name": "ipython",
    "version": 3
   },
   "file_extension": ".py",
   "mimetype": "text/x-python",
   "name": "python",
   "nbconvert_exporter": "python",
   "pygments_lexer": "ipython3",
   "version": "3.9.7"
  },
  "orig_nbformat": 4
 },
 "nbformat": 4,
 "nbformat_minor": 2
}
